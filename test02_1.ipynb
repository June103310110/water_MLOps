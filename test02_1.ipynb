{
 "cells": [
  {
   "cell_type": "code",
   "execution_count": 2,
   "metadata": {},
   "outputs": [],
   "source": [
    "import pandas as pd\n",
    "from sklearn import preprocessing\n",
    "import matplotlib.pyplot as plt\n",
    "import numpy as np\n",
    "from sklearn.model_selection import train_test_split\n",
    "from sklearn.metrics import mean_absolute_error, r2_score, mean_squared_error\n",
    "from xgboost import XGBRegressor\n",
    "from sklearn.svm import SVR"
   ]
  },
  {
   "cell_type": "code",
   "execution_count": 3,
   "metadata": {},
   "outputs": [],
   "source": [
    "def xgb_model(epochs, objective, booster, max_depth):\n",
    "    model = XGBRegressor(n_estimators = epochs,\n",
    "                         max_depth = max_depth,\n",
    "                         objective = objective,\n",
    "                         tree_method = 'gpu_hist',\n",
    "                         booster = booster,\n",
    "                         verbosity = 1)\n",
    "    return model\n"
   ]
  },
  {
   "cell_type": "code",
   "execution_count": 4,
   "metadata": {},
   "outputs": [],
   "source": [
    "def get_data():\n",
    "    df = pd.read_excel('~/git/water/Cost-B.xlsx')\n",
    "    df2 = df.rename({df.columns[0]: 'dirt', df.columns[-1]: 'cost'}, axis=1)\n",
    "    df2.pop(df.columns[1])\n",
    "    df = df2.copy()\n",
    "    data_cost = df.pop('cost')\n",
    "    label = df.pop('dirt')\n",
    "    \n",
    "    # add time msg\n",
    "    index = list(range(len(df)))\n",
    "    df['time'] = pd.DataFrame(index)\n",
    "    \n",
    "    return df, label"
   ]
  },
  {
   "cell_type": "code",
   "execution_count": 5,
   "metadata": {},
   "outputs": [],
   "source": [
    "# x = df2.values #returns a numpy array\n",
    "# min_max_scaler = preprocessing.MinMaxScaler()\n",
    "# x_scaled = min_max_scaler.fit_transform(x)\n",
    "# df2 = pd.DataFrame(x_scaled, columns = df2.columns)\n",
    "# df2.head()"
   ]
  },
  {
   "cell_type": "code",
   "execution_count": 6,
   "metadata": {},
   "outputs": [],
   "source": [
    "\n",
    "def data_dec(data):\n",
    "    X_train = data[0]\n",
    "    X_test = data[1]\n",
    "    y_train = data[2]\n",
    "    y_test = data[3]\n",
    "    return X_train, X_test, y_train, y_test\n"
   ]
  },
  {
   "cell_type": "code",
   "execution_count": null,
   "metadata": {},
   "outputs": [],
   "source": []
  },
  {
   "cell_type": "code",
   "execution_count": 7,
   "metadata": {},
   "outputs": [],
   "source": [
    "def lr_curve(results, ylabel, title):\n",
    "    keys = list(results.keys())\n",
    "    item = list(results[keys[0]].keys())[0]\n",
    "    epochs = len(results[keys[0]][item])\n",
    "    x_axis = range(0, epochs)\n",
    "    \n",
    "    fig, ax = plt.subplots(figsize=(6, 6))\n",
    "    ax.plot(x_axis, results[\"validation_0\"][item], label=\"Train\")\n",
    "    ax.plot(x_axis, results[\"validation_1\"][item], label=\"Test\")\n",
    "    ax.legend()\n",
    "    plt.ylabel(ylabel)\n",
    "    plt.title(title)\n",
    "    plt.show()\n"
   ]
  },
  {
   "cell_type": "code",
   "execution_count": 8,
   "metadata": {},
   "outputs": [],
   "source": [
    "# tree square error\n",
    "\n",
    "##  gbtree, gblinear or dart\n",
    "def xgb_test(data2XGB, epochs, plot, objective, booster, max_depth):\n",
    "    data = data2XGB.copy()\n",
    "    epochs = epochs\n",
    "    plot = plot\n",
    "    objective = objective\n",
    "    booster = booster\n",
    "    max_depth = max_depth\n",
    "    X_train, X_test, y_train, y_test = data_dec(data)\n",
    "\n",
    "    if plot:\n",
    "        verbose = 1\n",
    "    else:\n",
    "        verbose = 0\n",
    "    model = XGBRegressor(n_estimators = epochs,\n",
    "                         max_depth = max_depth,\n",
    "                         objective = objective,\n",
    "                         tree_method = 'gpu_hist',\n",
    "                         booster = booster,\n",
    "                         verbosity = verbose)\n",
    "#     print(model)\n",
    "    model.fit(X_train, y_train,\n",
    "            eval_set=[(X_train, y_train), (X_test, y_test)],\n",
    "            eval_metric='mae', verbose =plot)\n",
    "    y_pred = model.predict(X_test)\n",
    "\n",
    "    results = model.evals_result()\n",
    "    if plot:\n",
    "        lr_curve(results, 'xgb linear', 'learning curve of gblinear')\n",
    "    \n",
    "    return y_test, y_pred"
   ]
  },
  {
   "cell_type": "code",
   "execution_count": 9,
   "metadata": {},
   "outputs": [],
   "source": [
    "# df = pd.read_excel('~/git/water/Cost-B.xlsx')\n",
    "# df2 = df.rename({df.columns[0]: 'dirt', df.columns[-1]: 'cost'}, axis=1)\n",
    "# df2.pop(df.columns[1])\n",
    "# df2.head()"
   ]
  },
  {
   "cell_type": "code",
   "execution_count": 10,
   "metadata": {},
   "outputs": [],
   "source": [
    "# df = df2.copy()\n",
    "# data_cost = df.pop('cost')\n",
    "# label = df.pop('dirt')\n",
    "# index = list(range(len(df)))\n",
    "# df['time'] = pd.DataFrame(index)\n",
    "# df.head()"
   ]
  },
  {
   "cell_type": "code",
   "execution_count": 11,
   "metadata": {},
   "outputs": [
    {
     "name": "stdout",
     "output_type": "stream",
     "text": [
      "0    70.0\n",
      "1    70.0\n",
      "2    70.0\n",
      "3    71.0\n",
      "4    71.0\n",
      "Name: dirt, dtype: float64\n"
     ]
    },
    {
     "data": {
      "text/html": [
       "<div>\n",
       "<style scoped>\n",
       "    .dataframe tbody tr th:only-of-type {\n",
       "        vertical-align: middle;\n",
       "    }\n",
       "\n",
       "    .dataframe tbody tr th {\n",
       "        vertical-align: top;\n",
       "    }\n",
       "\n",
       "    .dataframe thead th {\n",
       "        text-align: right;\n",
       "    }\n",
       "</style>\n",
       "<table border=\"1\" class=\"dataframe\">\n",
       "  <thead>\n",
       "    <tr style=\"text-align: right;\">\n",
       "      <th></th>\n",
       "      <th>C</th>\n",
       "      <th>D</th>\n",
       "      <th>time</th>\n",
       "    </tr>\n",
       "  </thead>\n",
       "  <tbody>\n",
       "    <tr>\n",
       "      <th>0</th>\n",
       "      <td>17.000000</td>\n",
       "      <td>118.000000</td>\n",
       "      <td>0</td>\n",
       "    </tr>\n",
       "    <tr>\n",
       "      <th>1</th>\n",
       "      <td>114.680482</td>\n",
       "      <td>171.433735</td>\n",
       "      <td>1</td>\n",
       "    </tr>\n",
       "    <tr>\n",
       "      <th>2</th>\n",
       "      <td>287.000000</td>\n",
       "      <td>208.000000</td>\n",
       "      <td>2</td>\n",
       "    </tr>\n",
       "    <tr>\n",
       "      <th>3</th>\n",
       "      <td>17.000000</td>\n",
       "      <td>118.000000</td>\n",
       "      <td>3</td>\n",
       "    </tr>\n",
       "    <tr>\n",
       "      <th>4</th>\n",
       "      <td>123.428571</td>\n",
       "      <td>184.785714</td>\n",
       "      <td>4</td>\n",
       "    </tr>\n",
       "  </tbody>\n",
       "</table>\n",
       "</div>"
      ],
      "text/plain": [
       "            C           D  time\n",
       "0   17.000000  118.000000     0\n",
       "1  114.680482  171.433735     1\n",
       "2  287.000000  208.000000     2\n",
       "3   17.000000  118.000000     3\n",
       "4  123.428571  184.785714     4"
      ]
     },
     "execution_count": 11,
     "metadata": {},
     "output_type": "execute_result"
    }
   ],
   "source": [
    "df, label = get_data()\n",
    "print(label.head())\n",
    "df.head()"
   ]
  },
  {
   "cell_type": "markdown",
   "metadata": {},
   "source": [
    "## 待處理"
   ]
  },
  {
   "cell_type": "code",
   "execution_count": 12,
   "metadata": {},
   "outputs": [
    {
     "data": {
      "text/plain": [
       "<matplotlib.collections.PathCollection at 0x7f5236da2b50>"
      ]
     },
     "execution_count": 12,
     "metadata": {},
     "output_type": "execute_result"
    },
    {
     "data": {
      "image/png": "[encoded data removed]",
      "text/plain": [
       "<Figure size 432x288 with 1 Axes>"
      ]
     },
     "metadata": {
      "needs_background": "light"
     },
     "output_type": "display_data"
    }
   ],
   "source": [
    "# 資料可能是連續的 要調整\n",
    "x_axis = np.array(range(len(label)))\n",
    "plt.scatter(x_axis, label, marker='o')"
   ]
  },
  {
   "cell_type": "code",
   "execution_count": 13,
   "metadata": {},
   "outputs": [],
   "source": [
    "# from sklearn.model_selection import train_test_split\n",
    "# from sklearn.metrics import mean_absolute_error, r2_score\n",
    "\n",
    "\n",
    "\n",
    "\n",
    "# data_ori = train_test_split(df, label, test_size=0.33, random_state=42)\n",
    "\n"
   ]
  },
  {
   "cell_type": "code",
   "execution_count": 14,
   "metadata": {},
   "outputs": [],
   "source": [
    "# import pandas as pd\n",
    "# a = np.empty((100,100))\n",
    "# a[:] = np.nan\n",
    "\n",
    "# df = pd.DataFrame(a)\n",
    "# df.at[0,0] = 1\n",
    "# df"
   ]
  },
  {
   "cell_type": "code",
   "execution_count": 15,
   "metadata": {},
   "outputs": [],
   "source": [
    "def eva_metric(y_true, y_pred):\n",
    "    dic = {'mse':mean_squared_error,\n",
    "       'mae': mean_absolute_error,\n",
    "       'r2_score': r2_score}\n",
    "    \n",
    "    r2 = []\n",
    "    for i in dic.keys():\n",
    "        score = dic[i](y_true, y_pred)\n",
    "        print(i, score)\n",
    "        if i == 'r2_score':\n",
    "            r2.append(score)\n",
    "    return r2\n"
   ]
  },
  {
   "cell_type": "code",
   "execution_count": null,
   "metadata": {},
   "outputs": [
    {
     "name": "stdout",
     "output_type": "stream",
     "text": [
      "reg:squarederror gblinear max_depth = 4\n",
      "mse 0.3486000964410339\n",
      "mae 0.36140809377033667\n",
      "r2_score 0.9945255065268811\n",
      "reg:squarederror gblinear max_depth = 8\n",
      "mse 0.3486000964410339\n",
      "mae 0.36140809377033667\n",
      "r2_score 0.9945255065268811\n",
      "reg:squarederror gblinear max_depth = 12\n",
      "mse 0.3486000964410339\n",
      "mae 0.36140809377033667\n",
      "r2_score 0.9945255065268811\n",
      "reg:squarederror gbtree max_depth = 4\n",
      "mse 0.3486000964410339\n",
      "mae 0.36140809377033667\n",
      "r2_score 0.9945255065268811\n",
      "reg:squarederror gbtree max_depth = 8\n",
      "mse 0.3486000964410339\n",
      "mae 0.36140809377033667\n",
      "r2_score 0.9945255065268811\n",
      "reg:squarederror gbtree max_depth = 12\n",
      "mse 0.3486000964410339\n",
      "mae 0.36140809377033667\n",
      "r2_score 0.9945255065268811\n",
      "reg:squarederror dart max_depth = 4\n",
      "mse 0.3486000964410339\n",
      "mae 0.36140809377033667\n",
      "r2_score 0.9945255065268811\n",
      "reg:squarederror dart max_depth = 8\n",
      "mse 0.3486000964410339\n",
      "mae 0.36140809377033667\n",
      "r2_score 0.9945255065268811\n",
      "reg:squarederror dart max_depth = 12\n",
      "mse 0.3486000964410339\n",
      "mae 0.36140809377033667\n",
      "r2_score 0.9945255065268811\n",
      "reg:linear gblinear max_depth = 4\n"
     ]
    }
   ],
   "source": [
    "X_train, X_test, y_train, y_test = train_test_split(df, label, test_size=0.33, random_state=42)\n",
    "\n",
    "plot = False\n",
    "dic = {'obj':['reg:squarederror', 'reg:linear'],\n",
    "       'booster':['gblinear', 'gbtree', 'dart'],\n",
    "       'max_depth':[4, 8, 12]}\n",
    "\n",
    "best_lis = []\n",
    "record_dic = {'obj':[],\n",
    "              'booster':[],\n",
    "              'max_depth':[],\n",
    "              'score':[] }\n",
    "max_score = 0\n",
    "for a in dic['obj']:\n",
    "    for b in dic['booster']:\n",
    "        for c in dic['max_depth']:\n",
    "            print(a, b, 'max_depth =', c)\n",
    "            \n",
    "            # model training \n",
    "            model = xgb_model(500, 'reg:squarederror', 'gbtree', 12)\n",
    "            model.fit(X_train, y_train,\n",
    "                    eval_set=[(X_train, y_train), (X_test, y_test)],\n",
    "                    eval_metric='mae', verbose = False)\n",
    "            \n",
    "            # model predict and evaulate.\n",
    "            y_pred = model.predict(X_test)\n",
    "            y_true = y_test\n",
    "            r2 = eva_metric(y_true, y_pred)\n",
    "            \n",
    "            record_dic['obj'].append(a)\n",
    "            record_dic['booster'].append(b)\n",
    "            record_dic['max_depth'].append(c)\n",
    "            record_dic['score'].append(r2[0])\n",
    "            \n",
    "            # record best score\n",
    "            if r2[0] > max_score:\n",
    "                max_score = r2[0]\n",
    "                best_lis.append(a+' '+b+' '+'max_depth ='+str(c))\n",
    "                \n",
    "            results = model.evals_result()\n",
    "            \n",
    "            # plot lr curve for mae\n",
    "            if plot:\n",
    "                lr_curve(results, 'xgb linear', 'learning curve of gblinear')\n",
    "print(best_lis, max_score)\n",
    "\n",
    "'''\n",
    "best \n",
    "['reg:squarederror gblinear max_depth =4'] 0.9945255065268811\n",
    "'''"
   ]
  },
  {
   "cell_type": "code",
   "execution_count": null,
   "metadata": {},
   "outputs": [],
   "source": [
    "pd.DataFrame()"
   ]
  },
  {
   "cell_type": "code",
   "execution_count": 16,
   "metadata": {
    "scrolled": true
   },
   "outputs": [],
   "source": [
    "dic = {'obj':['reg:squarederror', 'reg:linear'],\n",
    "       'booster':['gblinear', 'gbtree', 'dart'],\n",
    "       'max_depth':[4, 8, 12]}\n",
    "best_lis = []\n",
    "max_score = 0\n",
    "for a in dic['obj']:\n",
    "    for b in dic['booster']:\n",
    "        for c in dic['max_depth']:\n",
    "            print(a, b, 'max_depth =', c)\n",
    "            y_true, y_pred = xgb_test(data_ori, 500, False, a, b, max_depth = c)\n",
    "            \n",
    "\n",
    "            r2 = eva_metric(y_true, y_pred)\n",
    "            if r2[0] > max_score:\n",
    "                max_score = r2[0]\n",
    "                best_lis.append(a+' '+b+' '+'max_depth ='+str(c))\n",
    "print(best_lis, max_score)\n",
    "\n",
    "'''\n",
    "best reg:squarederror gblinear max_depth = 4 \n",
    "reg:squarederror gblinear max_depth = 4\n",
    "mse 27.953177039845684\n",
    "mae 3.9668374506632573\n",
    "r2_score 0.561017088578295\n",
    "'''"
   ]
  },
  {
   "cell_type": "code",
   "execution_count": 17,
   "metadata": {},
   "outputs": [],
   "source": [
    "# print(best_lis[-1])\n",
    "# max_score"
   ]
  },
  {
   "cell_type": "code",
   "execution_count": 18,
   "metadata": {},
   "outputs": [],
   "source": [
    "from sklearn.svm import SVR\n",
    "\n",
    "svr_rbf = SVR(kernel='rbf', C=100, gamma=0.1, epsilon=.1)\n",
    "svr_lin = SVR(kernel='linear', C=100, gamma='auto')\n",
    "svr_poly = SVR(kernel='poly', C=100, gamma='auto', degree=3, epsilon=.1, \n",
    "               coef0=1, verbose = True)\n",
    "\n",
    "dic = {'svr_model':[svr_rbf, svr_lin]} # poly 跑很久 沒再動"
   ]
  },
  {
   "cell_type": "code",
   "execution_count": 19,
   "metadata": {},
   "outputs": [],
   "source": [
    "# df, label = get_data()\n",
    "# data_ori = train_test_split(df, pd.DataFrame(label), test_size=0.33, random_state=42)\n",
    "# X_train, X_test, y_train, y_test = data_dec(data_ori)\n",
    "\n",
    "# y_train = np.array(y_train)\n",
    "# y_train = np.squeeze(y_train, axis = -1)\n",
    "\n",
    "\n",
    "# for model in dic['svr_model']:\n",
    "#     print(model)\n",
    "#     model.fit(X_train, y_train)\n",
    "#     y_true = y_test.values\n",
    "#     y_pred = model.predict(X_test)\n",
    "    \n",
    "#     eva_metric(y_true, y_pred)\n",
    "#     print('\\n')"
   ]
  },
  {
   "cell_type": "code",
   "execution_count": 20,
   "metadata": {},
   "outputs": [],
   "source": [
    "def sig_disturb(data2func, percent):\n",
    "    percent = percent\n",
    "    y = data2func.copy()\n",
    "    np.random.seed(1)\n",
    "\n",
    "    nums = int(len(y)/100*percent)\n",
    "    if nums == 0:\n",
    "        nums = 1\n",
    "    rand = np.random.choice(range(len(y)), nums, replace=False)\n",
    "    noise = []\n",
    "    for i in y[rand]:\n",
    "        a = np.random.normal(loc=i, scale=y.std())\n",
    "        noise.append(a)\n",
    "    noise = np.array(noise)\n",
    "    noise *= 0.01\n",
    "    y[rand] += noise\n",
    "    return y, rand"
   ]
  },
  {
   "cell_type": "code",
   "execution_count": 21,
   "metadata": {},
   "outputs": [
    {
     "name": "stdout",
     "output_type": "stream",
     "text": [
      "8.017064433372823\n",
      "8.123171899843314\n"
     ]
    },
    {
     "data": {
      "text/plain": [
       "<matplotlib.collections.PathCollection at 0x7f5230b69cd0>"
      ]
     },
     "execution_count": 21,
     "metadata": {},
     "output_type": "execute_result"
    },
    {
     "data": {
      "image/png": "[encoded data removed]",
      "text/plain": [
       "<Figure size 1152x360 with 2 Axes>"
      ]
     },
     "metadata": {
      "needs_background": "light"
     },
     "output_type": "display_data"
    }
   ],
   "source": [
    "# 雜訊\n",
    "df_disturb, label = get_data()\n",
    "# add noise on dirt \n",
    "\n",
    "print(label.std())\n",
    "x_axis = np.array(range(len(label)))\n",
    "\n",
    "\n",
    "# add noise\n",
    "noise_label, rand= sig_disturb(label, 20)\n",
    "print(noise_label.std())\n",
    "\n",
    "# plot\n",
    "fig=plt.figure(figsize = (16, 5))\n",
    "\n",
    "fig_place = [1,2]\n",
    "\n",
    "subplot1 = fig.add_subplot(fig_place[0], fig_place[1], 1)\n",
    "plt.scatter(x_axis, label, marker='.')\n",
    "plt.title(\"origin signal of label\", y=1)\n",
    "\n",
    "subplot2 = fig.add_subplot(fig_place[0], fig_place[1], 2)\n",
    "plt.title(\"origin signal of label with with sensitivity disturb\")\n",
    "plt.scatter(x_axis, noise_label, marker='.')\n",
    "plt.scatter(x_axis[rand], noise_label[rand], marker='o')"
   ]
  },
  {
   "cell_type": "code",
   "execution_count": 22,
   "metadata": {},
   "outputs": [
    {
     "name": "stdout",
     "output_type": "stream",
     "text": [
      "train xgb with squarederror, gbtree\n",
      "mse 0.3878920130645943\n",
      "mae 0.4468362046590862\n",
      "r2_score 0.9939416947213084\n",
      "\n",
      "train svm with linear\n",
      "mse 0.513275304859272\n",
      "mae 0.5847653554612933\n",
      "r2_score 0.9919833912941818\n"
     ]
    },
    {
     "data": {
      "text/plain": [
       "[0.9919833912941818]"
      ]
     },
     "execution_count": 22,
     "metadata": {},
     "output_type": "execute_result"
    }
   ],
   "source": [
    "# disturb training\n",
    "data_ori = train_test_split(df_disturb, pd.DataFrame(noise_label), test_size=0.33, random_state=42)\n",
    "\n",
    "\n",
    "print('train xgb with squarederror, gbtree')\n",
    "y_true, y_pred = xgb_test(data_ori, 500, False, 'reg:squarederror', 'gbtree', max_depth = 12)\n",
    "eva_metric(y_true, y_pred)\n",
    "\n",
    "X_train, X_test, y_train, y_test = data_dec(data_ori)\n",
    "svr_lin = SVR(kernel='linear', C=100, gamma='auto')\n",
    "model = svr_lin\n",
    "y_train = np.array(y_train)\n",
    "y_train = np.squeeze(y_train, axis = -1)\n",
    "print('\\ntrain svm with linear')\n",
    "model.fit(X_train, np.array(y_train))\n",
    "\n",
    "y_true = y_test.values\n",
    "y_pred = model.predict(X_test)\n",
    "eva_metric(y_true, y_pred)\n"
   ]
  },
  {
   "cell_type": "code",
   "execution_count": 23,
   "metadata": {},
   "outputs": [],
   "source": [
    "def sig_transmittion_noise(data2func, percent):\n",
    "    percent = percent\n",
    "    y = data2func.copy()\n",
    "    np.random.seed(1)\n",
    "\n",
    "    nums = int(len(y)/100*percent)\n",
    "    if nums == 0:\n",
    "        nums = 1\n",
    "    rand = np.random.choice(range(len(y)), nums, replace=False)\n",
    "#     noise = np.ones(nums)\n",
    "#     noise*=1000\n",
    "    y[rand] = 1000\n",
    "    \n",
    "    return y, rand\n"
   ]
  },
  {
   "cell_type": "code",
   "execution_count": 24,
   "metadata": {},
   "outputs": [
    {
     "name": "stdout",
     "output_type": "stream",
     "text": [
      "8.017064433372823\n",
      "368.26362915703874\n"
     ]
    },
    {
     "data": {
      "text/plain": [
       "<matplotlib.collections.PathCollection at 0x7f5230a919d0>"
      ]
     },
     "execution_count": 24,
     "metadata": {},
     "output_type": "execute_result"
    },
    {
     "data": {
      "image/png": "[encoded data removed]",
      "text/plain": [
       "<Figure size 1152x360 with 2 Axes>"
      ]
     },
     "metadata": {
      "needs_background": "light"
     },
     "output_type": "display_data"
    }
   ],
   "source": [
    "# 雜訊\n",
    "df_noise, label = get_data()\n",
    "# add noise on dirt \n",
    "\n",
    "print(label.std())\n",
    "x_axis = np.array(range(len(label)))\n",
    "\n",
    "\n",
    "# add noise\n",
    "noise_label, rand= sig_transmittion_noise(label, 20)\n",
    "print(noise_label.std())\n",
    "\n",
    "# plot\n",
    "fig=plt.figure(figsize = (16, 5))\n",
    "\n",
    "fig_place = [1,2]\n",
    "\n",
    "subplot1 = fig.add_subplot(fig_place[0], fig_place[1], 1)\n",
    "plt.scatter(x_axis, label, marker='.')\n",
    "plt.title(\"origin signal of label\", y=1)\n",
    "\n",
    "subplot2 = fig.add_subplot(fig_place[0], fig_place[1], 2)\n",
    "plt.title(\"origin signal of label with with sensitivity disturb\")\n",
    "plt.scatter(x_axis, noise_label, marker='.')\n",
    "plt.scatter(x_axis[rand], noise_label[rand], marker='.')"
   ]
  },
  {
   "cell_type": "code",
   "execution_count": 25,
   "metadata": {},
   "outputs": [],
   "source": [
    "# 在訓練資料中會遇到雜訊突波 但在測試資料集上不應該有(因為那是我們的預測目標) \n",
    "# 在訓練集上filter離群值後訓練 預測就不會受離群值影響\n",
    "df, label = get_data()\n",
    "data_ori = train_test_split(df, label, test_size=0.33, random_state=42)\n",
    "X_train, X_test, y_train, y_test = data_dec(data_ori)\n",
    "\n",
    "train = pd.concat([X_train, y_train], axis = 1).reset_index(drop=True)\n",
    "# y_train = train.pop('dirt')\n",
    "\n",
    "noise_label, _= sig_transmittion_noise(train['dirt'], 20)\n",
    "train.loc[_, 'dirt'] = 1000\n",
    "arr = train['dirt'].values\n",
    "thres = arr.mean() + arr.std()\n",
    "outlier_filter = np.array(arr<thres)\n",
    "\n",
    "X_clean = train[outlier_filter]\n",
    "y_clean = X_clean.pop('dirt')"
   ]
  },
  {
   "cell_type": "code",
   "execution_count": 26,
   "metadata": {},
   "outputs": [
    {
     "name": "stdout",
     "output_type": "stream",
     "text": [
      "mse 1.9778875996778091\n",
      "mae 1.0375699129971545\n",
      "r2_score 0.9456558651299503\n"
     ]
    },
    {
     "data": {
      "image/png": "[encoded data removed]",
      "text/plain": [
       "<Figure size 432x432 with 1 Axes>"
      ]
     },
     "metadata": {
      "needs_background": "light"
     },
     "output_type": "display_data"
    }
   ],
   "source": [
    "X_train, X_test, y_train, y_test = train_test_split(X_clean, y_clean, test_size=0.33, random_state=42)\n",
    "\n",
    "\n",
    "\n",
    "model = xgb_model(500, 'reg:squarederror', 'gbtree', 12)\n",
    "model.fit(X_train, y_train,\n",
    "        eval_set=[(X_train, y_train), (X_test, y_test)],\n",
    "        eval_metric='mae', verbose = False)\n",
    "y_pred = model.predict(X_test)\n",
    "y_true = y_test\n",
    "eva_metric(y_true, y_pred)\n",
    "\n",
    "results = model.evals_result()\n",
    "if True:\n",
    "    lr_curve(results, 'xgb linear', 'learning curve of gblinear')"
   ]
  },
  {
   "cell_type": "code",
   "execution_count": 27,
   "metadata": {},
   "outputs": [
    {
     "name": "stdout",
     "output_type": "stream",
     "text": [
      "train svm with linear\n",
      "mse 0.2795885174321655\n",
      "mae 0.44052895290119665\n",
      "r2_score 0.9923180689833305\n"
     ]
    },
    {
     "data": {
      "text/plain": [
       "[0.9923180689833305]"
      ]
     },
     "execution_count": 27,
     "metadata": {},
     "output_type": "execute_result"
    }
   ],
   "source": [
    "X_train, X_test, y_train, y_test = train_test_split(X_clean, y_clean, test_size=0.33, random_state=42)\n",
    "\n",
    "print('train svm with linear')\n",
    "\n",
    "svr_lin = SVR(kernel='linear', C=100, gamma='auto')\n",
    "model = svr_lin\n",
    "y_train = np.array(y_train)\n",
    "model.fit(X_train, np.array(y_train))\n",
    "\n",
    "y_true = y_test\n",
    "y_pred = model.predict(X_test)\n",
    "eva_metric(y_true, y_pred)"
   ]
  },
  {
   "cell_type": "code",
   "execution_count": null,
   "metadata": {},
   "outputs": [],
   "source": []
  }
 ],
 "metadata": {
  "kernelspec": {
   "display_name": "Python 3",
   "language": "python",
   "name": "python3"
  },
  "language_info": {
   "codemirror_mode": {
    "name": "ipython",
    "version": 3
   },
   "file_extension": ".py",
   "mimetype": "text/x-python",
   "name": "python",
   "nbconvert_exporter": "python",
   "pygments_lexer": "ipython3",
   "version": "3.7.6"
  }
 },
 "nbformat": 4,
 "nbformat_minor": 4
}
