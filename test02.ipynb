{
 "cells": [
  {
   "cell_type": "code",
   "execution_count": 11,
   "metadata": {},
   "outputs": [],
   "source": [
    "import pandas as pd\n",
    "from sklearn import preprocessing\n",
    "import matplotlib.pyplot as plt\n",
    "import numpy as np\n",
    "from sklearn.model_selection import train_test_split\n",
    "from sklearn.metrics import mean_absolute_error, r2_score, mean_squared_error\n",
    "from xgboost import XGBRegressor"
   ]
  },
  {
   "cell_type": "code",
   "execution_count": 12,
   "metadata": {},
   "outputs": [
    {
     "data": {
      "text/html": [
       "<div>\n",
       "<style scoped>\n",
       "    .dataframe tbody tr th:only-of-type {\n",
       "        vertical-align: middle;\n",
       "    }\n",
       "\n",
       "    .dataframe tbody tr th {\n",
       "        vertical-align: top;\n",
       "    }\n",
       "\n",
       "    .dataframe thead th {\n",
       "        text-align: right;\n",
       "    }\n",
       "</style>\n",
       "<table border=\"1\" class=\"dataframe\">\n",
       "  <thead>\n",
       "    <tr style=\"text-align: right;\">\n",
       "      <th></th>\n",
       "      <th>dirt</th>\n",
       "      <th>C</th>\n",
       "      <th>D</th>\n",
       "      <th>cost</th>\n",
       "    </tr>\n",
       "  </thead>\n",
       "  <tbody>\n",
       "    <tr>\n",
       "      <th>0</th>\n",
       "      <td>70.0</td>\n",
       "      <td>17.000000</td>\n",
       "      <td>118.000000</td>\n",
       "      <td>3.132000</td>\n",
       "    </tr>\n",
       "    <tr>\n",
       "      <th>1</th>\n",
       "      <td>70.0</td>\n",
       "      <td>114.680482</td>\n",
       "      <td>171.433735</td>\n",
       "      <td>5.263562</td>\n",
       "    </tr>\n",
       "    <tr>\n",
       "      <th>2</th>\n",
       "      <td>70.0</td>\n",
       "      <td>287.000000</td>\n",
       "      <td>208.000000</td>\n",
       "      <td>7.152000</td>\n",
       "    </tr>\n",
       "    <tr>\n",
       "      <th>3</th>\n",
       "      <td>71.0</td>\n",
       "      <td>17.000000</td>\n",
       "      <td>118.000000</td>\n",
       "      <td>3.032000</td>\n",
       "    </tr>\n",
       "    <tr>\n",
       "      <th>4</th>\n",
       "      <td>71.0</td>\n",
       "      <td>123.428571</td>\n",
       "      <td>184.785714</td>\n",
       "      <td>5.670571</td>\n",
       "    </tr>\n",
       "  </tbody>\n",
       "</table>\n",
       "</div>"
      ],
      "text/plain": [
       "   dirt           C           D      cost\n",
       "0  70.0   17.000000  118.000000  3.132000\n",
       "1  70.0  114.680482  171.433735  5.263562\n",
       "2  70.0  287.000000  208.000000  7.152000\n",
       "3  71.0   17.000000  118.000000  3.032000\n",
       "4  71.0  123.428571  184.785714  5.670571"
      ]
     },
     "execution_count": 12,
     "metadata": {},
     "output_type": "execute_result"
    }
   ],
   "source": [
    "df = pd.read_excel('~/git/water/Cost-B.xlsx')\n",
    "df2 = df.rename({df.columns[0]: 'dirt', df.columns[-1]: 'cost'}, axis=1)\n",
    "df2.pop(df.columns[1])\n",
    "df2.head()"
   ]
  },
  {
   "cell_type": "code",
   "execution_count": 13,
   "metadata": {},
   "outputs": [],
   "source": [
    "# x = df2.values #returns a numpy array\n",
    "# min_max_scaler = preprocessing.MinMaxScaler()\n",
    "# x_scaled = min_max_scaler.fit_transform(x)\n",
    "# df2 = pd.DataFrame(x_scaled, columns = df2.columns)\n",
    "# df2.head()"
   ]
  },
  {
   "cell_type": "code",
   "execution_count": 14,
   "metadata": {},
   "outputs": [
    {
     "data": {
      "text/html": [
       "<div>\n",
       "<style scoped>\n",
       "    .dataframe tbody tr th:only-of-type {\n",
       "        vertical-align: middle;\n",
       "    }\n",
       "\n",
       "    .dataframe tbody tr th {\n",
       "        vertical-align: top;\n",
       "    }\n",
       "\n",
       "    .dataframe thead th {\n",
       "        text-align: right;\n",
       "    }\n",
       "</style>\n",
       "<table border=\"1\" class=\"dataframe\">\n",
       "  <thead>\n",
       "    <tr style=\"text-align: right;\">\n",
       "      <th></th>\n",
       "      <th>C</th>\n",
       "      <th>D</th>\n",
       "    </tr>\n",
       "  </thead>\n",
       "  <tbody>\n",
       "    <tr>\n",
       "      <th>0</th>\n",
       "      <td>17.000000</td>\n",
       "      <td>118.000000</td>\n",
       "    </tr>\n",
       "    <tr>\n",
       "      <th>1</th>\n",
       "      <td>114.680482</td>\n",
       "      <td>171.433735</td>\n",
       "    </tr>\n",
       "    <tr>\n",
       "      <th>2</th>\n",
       "      <td>287.000000</td>\n",
       "      <td>208.000000</td>\n",
       "    </tr>\n",
       "    <tr>\n",
       "      <th>3</th>\n",
       "      <td>17.000000</td>\n",
       "      <td>118.000000</td>\n",
       "    </tr>\n",
       "    <tr>\n",
       "      <th>4</th>\n",
       "      <td>123.428571</td>\n",
       "      <td>184.785714</td>\n",
       "    </tr>\n",
       "  </tbody>\n",
       "</table>\n",
       "</div>"
      ],
      "text/plain": [
       "            C           D\n",
       "0   17.000000  118.000000\n",
       "1  114.680482  171.433735\n",
       "2  287.000000  208.000000\n",
       "3   17.000000  118.000000\n",
       "4  123.428571  184.785714"
      ]
     },
     "execution_count": 14,
     "metadata": {},
     "output_type": "execute_result"
    }
   ],
   "source": [
    "df = df2.copy()\n",
    "data_cost = df.pop('cost')\n",
    "label = df.pop('dirt')\n",
    "df.head()"
   ]
  },
  {
   "cell_type": "code",
   "execution_count": 15,
   "metadata": {},
   "outputs": [],
   "source": [
    "\n",
    "def data_dec(data):\n",
    "    X_train = data[0]\n",
    "    X_test = data[1]\n",
    "    y_train = data[2]\n",
    "    y_test = data[3]\n",
    "    return X_train, X_test, y_train, y_test\n"
   ]
  },
  {
   "cell_type": "code",
   "execution_count": 16,
   "metadata": {},
   "outputs": [],
   "source": [
    "def eva_metric(y_true, y_pred):\n",
    "    dic = {'mse':mean_squared_error,\n",
    "       'mae': mean_absolute_error,\n",
    "       'r2_score': r2_score}\n",
    "    \n",
    "    for i in dic.keys():\n",
    "        print(i, dic[i](y_true, y_pred))\n"
   ]
  },
  {
   "cell_type": "code",
   "execution_count": 17,
   "metadata": {},
   "outputs": [],
   "source": [
    "def lr_curve(results, ylabel, title):\n",
    "    keys = list(results.keys())\n",
    "    item = list(results[keys[0]].keys())[0]\n",
    "    epochs = len(results[keys[0]][item])\n",
    "    x_axis = range(0, epochs)\n",
    "    \n",
    "    fig, ax = plt.subplots(figsize=(6, 6))\n",
    "    ax.plot(x_axis, results[\"validation_0\"][item], label=\"Train\")\n",
    "    ax.plot(x_axis, results[\"validation_1\"][item], label=\"Test\")\n",
    "    ax.legend()\n",
    "    plt.ylabel(ylabel)\n",
    "    plt.title(title)\n",
    "    plt.show()\n"
   ]
  },
  {
   "cell_type": "code",
   "execution_count": 18,
   "metadata": {},
   "outputs": [],
   "source": [
    "# tree square error\n",
    "\n",
    "##  gbtree, gblinear or dart\n",
    "def xgb_test(data2XGB, epochs, plot, objective, booster, max_depth):\n",
    "    data = data2XGB.copy()\n",
    "    epochs = epochs\n",
    "    plot = plot\n",
    "    objective = objective\n",
    "    booster = booster\n",
    "    max_depth = max_depth\n",
    "    X_train, X_test, y_train, y_test = data_dec(data)\n",
    "\n",
    "    if plot:\n",
    "        verbose = 1\n",
    "    else:\n",
    "        verbose = 0\n",
    "    model = XGBRegressor(n_estimators = epochs,\n",
    "                         max_depth = max_depth,\n",
    "                         objective = objective,\n",
    "                         tree_method = 'gpu_hist',\n",
    "                         booster = booster,\n",
    "                         verbosity = verbose)\n",
    "#     print(model)\n",
    "    model.fit(X_train, y_train,\n",
    "            eval_set=[(X_train, y_train), (X_test, y_test)],\n",
    "            eval_metric='mae', verbose =plot)\n",
    "\n",
    "    y_true = y_test.values\n",
    "    y_pred = model.predict(X_test)\n",
    "\n",
    "    eva_metric(y_true, y_pred)\n",
    "\n",
    "    results = model.evals_result()\n",
    "    if plot:\n",
    "        lr_curve(results, 'xgb linear', 'learning curve of gblinear')\n",
    "    \n"
   ]
  },
  {
   "cell_type": "markdown",
   "metadata": {},
   "source": [
    "## 待處理"
   ]
  },
  {
   "cell_type": "code",
   "execution_count": 19,
   "metadata": {},
   "outputs": [
    {
     "data": {
      "text/plain": [
       "<matplotlib.collections.PathCollection at 0x7fab8c0fea50>"
      ]
     },
     "execution_count": 19,
     "metadata": {},
     "output_type": "execute_result"
    },
    {
     "data": {
      "image/png": "[encoded data removed]",
      "text/plain": [
       "<Figure size 432x288 with 1 Axes>"
      ]
     },
     "metadata": {
      "needs_background": "light"
     },
     "output_type": "display_data"
    }
   ],
   "source": [
    "# 資料可能是連續的 要調整\n",
    "x_axis = np.array(range(len(label)))\n",
    "plt.scatter(x_axis, label, marker='o')"
   ]
  },
  {
   "cell_type": "code",
   "execution_count": 20,
   "metadata": {},
   "outputs": [],
   "source": [
    "from sklearn.model_selection import train_test_split\n",
    "from sklearn.metrics import mean_absolute_error, r2_score\n",
    "\n",
    "\n",
    "\n",
    "\n",
    "data_ori = train_test_split(df, label, test_size=0.33, random_state=42)\n",
    "\n"
   ]
  },
  {
   "cell_type": "code",
   "execution_count": 21,
   "metadata": {},
   "outputs": [],
   "source": [
    "# import pandas as pd\n",
    "# a = np.empty((100,100))\n",
    "# a[:] = np.nan\n",
    "\n",
    "# df = pd.DataFrame(a)\n",
    "# df.at[0,0] = 1\n",
    "# df"
   ]
  },
  {
   "cell_type": "code",
   "execution_count": 22,
   "metadata": {},
   "outputs": [],
   "source": [
    "# dic = {'obj':['reg:squarederror', 'reg:linear'],\n",
    "#        'booster':['gblinear', 'gbtree', 'dart'],\n",
    "#        'max_depth':[4, 8, 12]}\n",
    "# for a in range(len(dic['obj'])):\n",
    "#     for b in range(len(dic['booster'])):\n",
    "#         for c in range(len(dic['max_depth'])):\n",
    "#             print(dic['obj'][a], dic['booster'][b], 'max_depth =', dic['max_depth'][c])\n",
    "#             xgb_test(data_ori, 500, False, dic['obj'][a], dic['booster'][b], max_depth = dic['max_depth'][c])\n",
    "#             print('\\n')"
   ]
  },
  {
   "cell_type": "code",
   "execution_count": 23,
   "metadata": {
    "scrolled": true
   },
   "outputs": [
    {
     "data": {
      "text/plain": [
       "'\\nreg:squarederror gblinear max_depth = 4\\nmse 27.953177039845684\\nmae 3.9668374506632573\\nr2_score 0.561017088578295\\n'"
      ]
     },
     "execution_count": 23,
     "metadata": {},
     "output_type": "execute_result"
    }
   ],
   "source": [
    "# dic = {'obj':['reg:squarederror', 'reg:linear'],\n",
    "#        'booster':['gblinear', 'gbtree', 'dart'],\n",
    "#        'max_depth':[4, 8, 12]}\n",
    "# for a in dic['obj']:\n",
    "#     for b in dic['booster']:\n",
    "#         for c in dic['max_depth']:\n",
    "#             print(a, b, 'max_depth =', c)\n",
    "#             xgb_test(data_ori, 500, False, a, b, max_depth = c)\n",
    "#             print('\\n')\n",
    "            \n",
    "# best reg:squarederror gblinear max_depth = 4 \n",
    "'''\n",
    "reg:squarederror gblinear max_depth = 4\n",
    "mse 27.953177039845684\n",
    "mae 3.9668374506632573\n",
    "r2_score 0.561017088578295\n",
    "'''"
   ]
  },
  {
   "cell_type": "code",
   "execution_count": 24,
   "metadata": {},
   "outputs": [],
   "source": [
    "X_train, X_test, y_train, y_test = data_dec(data_ori)"
   ]
  },
  {
   "cell_type": "code",
   "execution_count": 25,
   "metadata": {},
   "outputs": [],
   "source": [
    "from sklearn.svm import SVR\n",
    "\n",
    "svr_rbf = SVR(kernel='rbf', C=100, gamma=0.1, epsilon=.1)\n",
    "svr_lin = SVR(kernel='linear', C=100, gamma='auto')\n",
    "svr_poly = SVR(kernel='poly', C=100, gamma='auto', degree=3, epsilon=.1, \n",
    "               coef0=1, verbose = True)\n",
    "\n",
    "dic = {'svr_model':[svr_rbf, svr_lin]} # poly 跑很久 沒再動"
   ]
  },
  {
   "cell_type": "code",
   "execution_count": 26,
   "metadata": {},
   "outputs": [],
   "source": [
    "# for model in dic['svr_model']:\n",
    "#     print(model)\n",
    "#     model.fit(X_train, y_train)\n",
    "#     y_true = y_test.values\n",
    "#     y_pred = model.predict(X_test)\n",
    "#     eva_metric(y_true, y_pred)\n",
    "#     print('\\n')"
   ]
  },
  {
   "cell_type": "code",
   "execution_count": 27,
   "metadata": {},
   "outputs": [],
   "source": [
    "def sig_disturb(data2func, percent):\n",
    "    percent = percent\n",
    "    y = data2func.copy()\n",
    "    np.random.seed(1)\n",
    "\n",
    "    nums = int(len(y)/100*percent)\n",
    "    if nums == 0:\n",
    "        nums = 1\n",
    "    rand = np.random.choice(range(len(y)), nums, replace=False)\n",
    "    noise = []\n",
    "    for i in y[rand]:\n",
    "        a = np.random.normal(loc=i, scale=y.std())\n",
    "        noise.append(a)\n",
    "    noise = np.array(noise)\n",
    "    noise *= 0.01\n",
    "    y[rand] += noise\n",
    "    return y, rand"
   ]
  },
  {
   "cell_type": "code",
   "execution_count": 28,
   "metadata": {},
   "outputs": [],
   "source": [
    "df = pd.read_excel('~/git/water/Cost-B.xlsx')\n",
    "df2 = df.rename({df.columns[0]: 'dirt', df.columns[-1]: 'cost'}, axis=1)\n",
    "df2.pop(df.columns[1])\n",
    "\n",
    "df_disturb = df2.copy()\n",
    "df_disturb.pop('cost')\n",
    "label = df_disturb.pop('dirt').values"
   ]
  },
  {
   "cell_type": "code",
   "execution_count": 30,
   "metadata": {},
   "outputs": [
    {
     "name": "stdout",
     "output_type": "stream",
     "text": [
      "7.983590114172389\n",
      "8.089246848400359\n"
     ]
    },
    {
     "data": {
      "text/plain": [
       "<matplotlib.collections.PathCollection at 0x7fab8107ab90>"
      ]
     },
     "execution_count": 30,
     "metadata": {},
     "output_type": "execute_result"
    },
    {
     "data": {
      "image/png": "[encoded data removed]",
      "text/plain": [
       "<Figure size 1152x360 with 2 Axes>"
      ]
     },
     "metadata": {
      "needs_background": "light"
     },
     "output_type": "display_data"
    }
   ],
   "source": [
    "# 雜訊\n",
    "\n",
    "# add noise on dirt \n",
    "\n",
    "print(label.std())\n",
    "x_axis = np.array(range(len(label)))\n",
    "\n",
    "\n",
    "# add noise\n",
    "noise_label, rand= sig_disturb(label, 20)\n",
    "print(noise_label.std())\n",
    "\n",
    "# plot\n",
    "fig=plt.figure(figsize = (16, 5))\n",
    "\n",
    "fig_place = [1,2]\n",
    "\n",
    "subplot1 = fig.add_subplot(fig_place[0], fig_place[1], 1)\n",
    "plt.scatter(x_axis, label, marker='.')\n",
    "plt.title(\"origin signal of label\", y=1)\n",
    "\n",
    "subplot2 = fig.add_subplot(fig_place[0], fig_place[1], 2)\n",
    "plt.title(\"origin signal of label with with sensitivity disturb\")\n",
    "plt.scatter(x_axis, noise_label, marker='.')\n",
    "plt.scatter(x_axis[rand], noise_label[rand], marker='o')"
   ]
  },
  {
   "cell_type": "code",
   "execution_count": 44,
   "metadata": {},
   "outputs": [
    {
     "name": "stdout",
     "output_type": "stream",
     "text": [
      "mse 28.786983043863636\n",
      "mae 3.9716182089280494\n",
      "r2_score 0.5503887043542598\n",
      "train svm with linear\n",
      "mse 28.676376759362665\n",
      "mae 3.912208512673948\n",
      "r2_score 0.5521162155285038\n"
     ]
    }
   ],
   "source": [
    "data_ori = train_test_split(df_disturb, pd.DataFrame(noise_label), test_size=0.33, random_state=42)\n",
    "\n",
    "\n",
    "\n",
    "xgb_test(data_ori, 500, False, 'reg:squarederror', 'gblinear', max_depth = 4)\n",
    "\n",
    "X_train, X_test, y_train, y_test = data_dec(data_ori)\n",
    "svr_lin = SVR(kernel='linear', C=100, gamma='auto')\n",
    "model = svr_lin\n",
    "y_train = np.array(y_train)\n",
    "y_train = np.squeeze(y_train, axis = -1)\n",
    "print('\\ntrain svm with linear')\n",
    "model.fit(X_train, np.array(y_train))\n",
    "\n",
    "y_true = y_test.values\n",
    "y_pred = model.predict(X_test)\n",
    "eva_metric(y_true, y_pred)\n"
   ]
  },
  {
   "cell_type": "code",
   "execution_count": 33,
   "metadata": {},
   "outputs": [],
   "source": [
    "data_ori = train_test_split(df_disturb, pd.DataFrame(noise_label), test_size=0.33, random_state=42)\n",
    "X_train, X_test, y_train, y_test = data_dec(data_ori)"
   ]
  },
  {
   "cell_type": "code",
   "execution_count": null,
   "metadata": {},
   "outputs": [],
   "source": []
  }
 ],
 "metadata": {
  "kernelspec": {
   "display_name": "Python 3",
   "language": "python",
   "name": "python3"
  },
  "language_info": {
   "codemirror_mode": {
    "name": "ipython",
    "version": 3
   },
   "file_extension": ".py",
   "mimetype": "text/x-python",
   "name": "python",
   "nbconvert_exporter": "python",
   "pygments_lexer": "ipython3",
   "version": "3.7.6"
  }
 },
 "nbformat": 4,
 "nbformat_minor": 4
}
