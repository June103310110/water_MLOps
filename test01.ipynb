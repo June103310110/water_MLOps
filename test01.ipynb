{
 "cells": [
  {
   "cell_type": "code",
   "execution_count": 19,
   "metadata": {},
   "outputs": [],
   "source": [
    "import pandas as pd\n",
    "from sklearn import preprocessing\n",
    "import matplotlib.pyplot as plt\n",
    "import numpy as np"
   ]
  },
  {
   "cell_type": "code",
   "execution_count": 20,
   "metadata": {},
   "outputs": [
    {
     "data": {
      "text/html": [
       "<div>\n",
       "<style scoped>\n",
       "    .dataframe tbody tr th:only-of-type {\n",
       "        vertical-align: middle;\n",
       "    }\n",
       "\n",
       "    .dataframe tbody tr th {\n",
       "        vertical-align: top;\n",
       "    }\n",
       "\n",
       "    .dataframe thead th {\n",
       "        text-align: right;\n",
       "    }\n",
       "</style>\n",
       "<table border=\"1\" class=\"dataframe\">\n",
       "  <thead>\n",
       "    <tr style=\"text-align: right;\">\n",
       "      <th></th>\n",
       "      <th>dirt</th>\n",
       "      <th>C</th>\n",
       "      <th>D</th>\n",
       "      <th>cost</th>\n",
       "    </tr>\n",
       "  </thead>\n",
       "  <tbody>\n",
       "    <tr>\n",
       "      <th>0</th>\n",
       "      <td>70.0</td>\n",
       "      <td>17.000000</td>\n",
       "      <td>118.000000</td>\n",
       "      <td>3.132000</td>\n",
       "    </tr>\n",
       "    <tr>\n",
       "      <th>1</th>\n",
       "      <td>70.0</td>\n",
       "      <td>114.680482</td>\n",
       "      <td>171.433735</td>\n",
       "      <td>5.263562</td>\n",
       "    </tr>\n",
       "    <tr>\n",
       "      <th>2</th>\n",
       "      <td>70.0</td>\n",
       "      <td>287.000000</td>\n",
       "      <td>208.000000</td>\n",
       "      <td>7.152000</td>\n",
       "    </tr>\n",
       "    <tr>\n",
       "      <th>3</th>\n",
       "      <td>71.0</td>\n",
       "      <td>17.000000</td>\n",
       "      <td>118.000000</td>\n",
       "      <td>3.032000</td>\n",
       "    </tr>\n",
       "    <tr>\n",
       "      <th>4</th>\n",
       "      <td>71.0</td>\n",
       "      <td>123.428571</td>\n",
       "      <td>184.785714</td>\n",
       "      <td>5.670571</td>\n",
       "    </tr>\n",
       "  </tbody>\n",
       "</table>\n",
       "</div>"
      ],
      "text/plain": [
       "   dirt           C           D      cost\n",
       "0  70.0   17.000000  118.000000  3.132000\n",
       "1  70.0  114.680482  171.433735  5.263562\n",
       "2  70.0  287.000000  208.000000  7.152000\n",
       "3  71.0   17.000000  118.000000  3.032000\n",
       "4  71.0  123.428571  184.785714  5.670571"
      ]
     },
     "execution_count": 20,
     "metadata": {},
     "output_type": "execute_result"
    }
   ],
   "source": [
    "df = pd.read_excel('~/git/water/Cost-B.xlsx')\n",
    "df2 = df.rename({df.columns[0]: 'dirt', df.columns[-1]: 'cost'}, axis=1)\n",
    "df2.pop(df.columns[1])\n",
    "df2.head()"
   ]
  },
  {
   "cell_type": "code",
   "execution_count": 21,
   "metadata": {},
   "outputs": [],
   "source": [
    "x = df2.values #returns a numpy array\n",
    "min_max_scaler = preprocessing.MinMaxScaler()\n",
    "x_scaled = min_max_scaler.fit_transform(x)\n",
    "df2 = pd.DataFrame(x_scaled, columns = df2.columns)"
   ]
  },
  {
   "cell_type": "code",
   "execution_count": 22,
   "metadata": {},
   "outputs": [],
   "source": [
    "x = df2['C'][:10].values\n",
    "y = df2['dirt'][:10].values"
   ]
  },
  {
   "cell_type": "code",
   "execution_count": 41,
   "metadata": {},
   "outputs": [
    {
     "data": {
      "image/png": "[encoded data removed]",
      "text/plain": [
       "<Figure size 432x288 with 1 Axes>"
      ]
     },
     "metadata": {
      "needs_background": "light"
     },
     "output_type": "display_data"
    }
   ],
   "source": [
    "def plt_transmittion_noise(x_data, y_data, percent): \n",
    "    # 當投入C藥劑時，濁度感測器傳輸過程出現噪音\n",
    "    np.random.seed(0)\n",
    "    \n",
    "    x = x_data.copy()\n",
    "    y = y_data.copy()\n",
    "    \n",
    "    nums = int(len(y)/100*percent)\n",
    "    if nums == 0:\n",
    "        nums = 1\n",
    "    plt.scatter(x, y, marker='o')\n",
    "\n",
    "    rand = np.random.choice(range(len(y)), nums, replace=False)\n",
    "    noise = np.ones(nums)\n",
    "#     noise += y.max()\n",
    "    \n",
    "    plt.scatter(x[rand], y[rand], marker='.')\n",
    "    plt.scatter(x[rand], noise, marker='*') \n",
    "\n",
    "plt_transmittion_noise(x, y, 40)\n",
    "# plt.scatter(x, y, marker='o')"
   ]
  },
  {
   "cell_type": "code",
   "execution_count": 42,
   "metadata": {},
   "outputs": [
    {
     "data": {
      "image/png": "[encoded data removed]",
      "text/plain": [
       "<Figure size 432x288 with 1 Axes>"
      ]
     },
     "metadata": {
      "needs_background": "light"
     },
     "output_type": "display_data"
    }
   ],
   "source": [
    "def plt_disturb(x_data, y_data, percent): \n",
    "    # 當投入C藥劑時，濁度感測器接接收或解號時出現擾動\n",
    "    np.random.seed(1)\n",
    "    \n",
    "    x = x_data.copy()\n",
    "    y = y_data.copy()\n",
    "    \n",
    "\n",
    "    nums = int(len(y)/100*percent)\n",
    "    if nums == 0:\n",
    "        nums = 1\n",
    "    plt.scatter(x, y, marker='o');\n",
    "\n",
    "    rand = np.random.choice(range(len(y)), nums, replace=False)\n",
    "    plt.scatter(x[rand], y[rand], marker='.')\n",
    "    \n",
    "    noise = []\n",
    "    for i in y[rand]:\n",
    "        a = np.random.normal(loc=i, scale=y.std())\n",
    "        noise.append(a)\n",
    "    noise = np.array(noise)\n",
    "    noise *= 0.1\n",
    "    y[rand] += noise\n",
    "    \n",
    "    plt.scatter(x[rand], y[rand], marker='*')\n",
    "    \n",
    "    \n",
    "plt_disturb(x, y, 40)\n"
   ]
  },
  {
   "cell_type": "code",
   "execution_count": 167,
   "metadata": {},
   "outputs": [
    {
     "data": {
      "text/plain": [
       "0.32434840686431826"
      ]
     },
     "execution_count": 167,
     "metadata": {},
     "output_type": "execute_result"
    }
   ],
   "source": [
    "x.std()"
   ]
  },
  {
   "cell_type": "code",
   "execution_count": 184,
   "metadata": {},
   "outputs": [
    {
     "data": {
      "image/png": "[encoded data removed]",
      "text/plain": [
       "<Figure size 432x288 with 1 Axes>"
      ]
     },
     "metadata": {
      "needs_background": "light"
     },
     "output_type": "display_data"
    }
   ],
   "source": [
    "def plt_delay(x_data, y_data, percent):\n",
    "    np.random.seed(1)\n",
    "    \n",
    "    x = x_data.copy()\n",
    "    y = y_data.copy()\n",
    "    \n",
    "    x = np.array(range(10))\n",
    "    x = x * 1.\n",
    "    y1 = np.zeros(10)\n",
    "    y1 += 0.1\n",
    "    y2 = np.zeros(10)\n",
    "    \n",
    "    nums = int(len(y)/100*percent)\n",
    "    if nums == 0:\n",
    "        nums = 1\n",
    "        \n",
    "    plt.scatter(x, y1, marker='o')\n",
    "    \n",
    "    rand = np.random.choice(range(len(y)), nums, replace=False)\n",
    "    \n",
    "    noise = []\n",
    "    scale = x.std()/len(x)\n",
    "    for i in x[rand]:\n",
    "        a = abs(np.random.normal(loc=0, scale=scale))\n",
    "        a = abs(a)\n",
    "        noise.append(a)\n",
    "    \n",
    "    noise = np.array(noise)\n",
    "    noise *= 0.5\n",
    "    x[rand] += noise\n",
    "    \n",
    "    plt.scatter(x, y2, marker='o')\n",
    "    plt.scatter(x[rand], y2[rand], marker='.')\n",
    "\n",
    "    x1 = np.array([0, 9])\n",
    "    y = np.array([-0.2, 0.3])\n",
    "    \n",
    "#     \n",
    "    plt.scatter(x1, y, marker='o', c='w')\n",
    "    \n",
    "plt_delay(x, y, 30)"
   ]
  },
  {
   "cell_type": "code",
   "execution_count": 207,
   "metadata": {},
   "outputs": [
    {
     "data": {
      "image/png": "[encoded data removed]",
      "text/plain": [
       "<Figure size 432x288 with 1 Axes>"
      ]
     },
     "metadata": {
      "needs_background": "light"
     },
     "output_type": "display_data"
    }
   ],
   "source": [
    "def plt_dropout(x_data, y_data, percent):\n",
    "    np.random.seed(1)\n",
    "    \n",
    "    x = x_data.copy()\n",
    "    y = y_data.copy()\n",
    "    \n",
    "    nums = int(len(y)/100*percent)\n",
    "    if nums == 0:\n",
    "        nums = 1\n",
    "        \n",
    "    plt.scatter(x, y, marker='o', c = 'b')\n",
    "    \n",
    "    rand = np.random.choice(range(len(y)), nums, replace=False)\n",
    "    \n",
    "    plt.scatter(x[rand], y[rand], marker='o', c = 'w')\n",
    "\n",
    "    \n",
    "plt_dropout(x, y, 30)"
   ]
  },
  {
   "cell_type": "code",
   "execution_count": 202,
   "metadata": {},
   "outputs": [
    {
     "data": {
      "image/png": "[encoded data removed]",
      "text/plain": [
       "<Figure size 1152x360 with 3 Axes>"
      ]
     },
     "metadata": {
      "needs_background": "light"
     },
     "output_type": "display_data"
    }
   ],
   "source": [
    "fig=plt.figure(figsize = (16, 5))\n",
    "\n",
    "fig_place = [1,3]\n",
    "\n",
    "subplot1 = fig.add_subplot(fig_place[0], fig_place[1], 1)\n",
    "plt.scatter(x, y, marker='o')\n",
    "plt.title(\"origin signal\", y=1)\n",
    "\n",
    "subplot2 = fig.add_subplot(fig_place[0], fig_place[1], 3)\n",
    "plt.title(\"origin signal with Transmission noise\")\n",
    "plt_transmittion_noise(x, y, 40)\n",
    "\n",
    "subplot3 = fig.add_subplot(fig_place[0], fig_place[1], 2)\n",
    "plt.title(\"origin signal with sensitivity disturb\")\n",
    "plt_disturb(x, y, 40)\n",
    "plt.show()\n",
    "\n",
    "# plt.scatter(df2['D'].values, df2['dirt'].values, marker='o');"
   ]
  },
  {
   "cell_type": "code",
   "execution_count": 181,
   "metadata": {},
   "outputs": [
    {
     "data": {
      "text/plain": [
       "Text(0.5, 1.0, 'origin signal with delay feedback')"
      ]
     },
     "execution_count": 181,
     "metadata": {},
     "output_type": "execute_result"
    },
    {
     "data": {
      "image/png": "[encoded data removed]",
      "text/plain": [
       "<Figure size 1152x360 with 1 Axes>"
      ]
     },
     "metadata": {
      "needs_background": "light"
     },
     "output_type": "display_data"
    }
   ],
   "source": [
    "fig=plt.figure(figsize = (16, 5))\n",
    "\n",
    "fig_place = [1,3]\n",
    "\n",
    "\n",
    "plt_delay(x, y, 30)\n",
    "plt.title(\"origin signal with delay feedback\")\n",
    "\n",
    "\n",
    "# plt.scatter(df2['D'].values, df2['dirt'].values, marker='o');"
   ]
  },
  {
   "cell_type": "code",
   "execution_count": 208,
   "metadata": {},
   "outputs": [
    {
     "data": {
      "text/plain": [
       "Text(0.5, 1, 'origin signal with missing value')"
      ]
     },
     "execution_count": 208,
     "metadata": {},
     "output_type": "execute_result"
    },
    {
     "data": {
      "image/png": "[encoded data removed]",
      "text/plain": [
       "<Figure size 1152x360 with 2 Axes>"
      ]
     },
     "metadata": {
      "needs_background": "light"
     },
     "output_type": "display_data"
    }
   ],
   "source": [
    "fig=plt.figure(figsize = (16, 5))\n",
    "\n",
    "fig_place = [1,3]\n",
    "\n",
    "subplot1 = fig.add_subplot(fig_place[0], fig_place[1], 1)\n",
    "plt.scatter(x, y, marker='o', c ='b')\n",
    "plt.title(\"origin signal\", y=1)\n",
    "\n",
    "subplot2 = fig.add_subplot(fig_place[0], fig_place[1], 2)\n",
    "plt_dropout(x, y, 30)\n",
    "plt.title(\"origin signal with missing value\", y=1)"
   ]
  },
  {
   "cell_type": "code",
   "execution_count": null,
   "metadata": {},
   "outputs": [],
   "source": []
  }
 ],
 "metadata": {
  "kernelspec": {
   "display_name": "Python 3",
   "language": "python",
   "name": "python3"
  },
  "language_info": {
   "codemirror_mode": {
    "name": "ipython",
    "version": 3
   },
   "file_extension": ".py",
   "mimetype": "text/x-python",
   "name": "python",
   "nbconvert_exporter": "python",
   "pygments_lexer": "ipython3",
   "version": "3.7.6"
  }
 },
 "nbformat": 4,
 "nbformat_minor": 4
}
