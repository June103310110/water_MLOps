{
 "cells": [
  {
   "cell_type": "markdown",
   "metadata": {},
   "source": [
    "# readme\n",
    "分析資料種包含的各種形態瑕疵"
   ]
  },
  {
   "cell_type": "code",
   "execution_count": 1,
   "metadata": {},
   "outputs": [],
   "source": [
    "import pandas as pd\n",
    "from sklearn import preprocessing\n",
    "import matplotlib.pyplot as plt\n",
    "import numpy as np\n",
    "from sklearn.model_selection import train_test_split\n",
    "from sklearn.metrics import mean_absolute_error, r2_score, mean_squared_error\n",
    "from xgboost import XGBRegressor\n",
    "from sklearn.svm import SVR"
   ]
  },
  {
   "cell_type": "code",
   "execution_count": 4,
   "metadata": {},
   "outputs": [
    {
     "data": {
      "text/plain": [
       "'water_MLOps'"
      ]
     },
     "execution_count": 4,
     "metadata": {},
     "output_type": "execute_result"
    }
   ],
   "source": [
    "cwd"
   ]
  },
  {
   "cell_type": "code",
   "execution_count": 2,
   "metadata": {},
   "outputs": [],
   "source": [
    "save_path = '03-signal_analysis'\n",
    "package_path = 'water_MLOps'"
   ]
  },
  {
   "cell_type": "code",
   "execution_count": 5,
   "metadata": {},
   "outputs": [
    {
     "name": "stdout",
     "output_type": "stream",
     "text": [
      "water_MLOps\n"
     ]
    }
   ],
   "source": [
    "import os\n",
    "cwd = os.getcwd().split(\"/\")[-1]\n",
    "if cwd == package_path:\n",
    "    print(cwd)\n",
    "    #     if not os.path.isdir(save_path):\n",
    "#         print('create '+save_path)\n",
    "#         os.mkdir(save_path)\n",
    "# os.chdir(save_path)\n",
    "# print(os.getcwd())"
   ]
  },
  {
   "cell_type": "code",
   "execution_count": 5,
   "metadata": {},
   "outputs": [
    {
     "ename": "FileNotFoundError",
     "evalue": "[Errno 2] No such file or directory: './02-signal_testing'",
     "output_type": "error",
     "traceback": [
      "\u001b[0;31m---------------------------------------------------------------------------\u001b[0m",
      "\u001b[0;31mFileNotFoundError\u001b[0m                         Traceback (most recent call last)",
      "\u001b[0;32m<ipython-input-5-d8b9d5036e7c>\u001b[0m in \u001b[0;36m<module>\u001b[0;34m\u001b[0m\n\u001b[1;32m      1\u001b[0m \u001b[0;32mimport\u001b[0m \u001b[0mos\u001b[0m\u001b[0;34m\u001b[0m\u001b[0;34m\u001b[0m\u001b[0m\n\u001b[0;32m----> 2\u001b[0;31m \u001b[0mos\u001b[0m\u001b[0;34m.\u001b[0m\u001b[0mchdir\u001b[0m\u001b[0;34m(\u001b[0m\u001b[0;34m'./02-signal_testing'\u001b[0m\u001b[0;34m)\u001b[0m\u001b[0;34m\u001b[0m\u001b[0;34m\u001b[0m\u001b[0m\n\u001b[0m",
      "\u001b[0;31mFileNotFoundError\u001b[0m: [Errno 2] No such file or directory: './02-signal_testing'"
     ]
    }
   ],
   "source": [
    "import os \n",
    "os.chdir('./02-signal_testing')"
   ]
  },
  {
   "cell_type": "code",
   "execution_count": null,
   "metadata": {},
   "outputs": [],
   "source": [
    "from utils import xgb_model, get_data, lr_curve, eva_metric, xgb_grid_test, svm_grid_test\n",
    "from noising import sig_disturb, sig_transmittion_noise, sig_drop, plt_drop"
   ]
  },
  {
   "cell_type": "markdown",
   "metadata": {},
   "source": [
    "# EDA"
   ]
  },
  {
   "cell_type": "code",
   "execution_count": null,
   "metadata": {},
   "outputs": [],
   "source": [
    "df, label = get_data()\n",
    "print(label.head())\n",
    "df.head()"
   ]
  },
  {
   "cell_type": "markdown",
   "metadata": {},
   "source": [
    "## 待處理"
   ]
  },
  {
   "cell_type": "code",
   "execution_count": null,
   "metadata": {},
   "outputs": [],
   "source": [
    "# 資料可能是連續的 要調整\n",
    "x_axis = np.array(range(len(label)))\n",
    "plt.scatter(x_axis, label, marker='o')"
   ]
  },
  {
   "cell_type": "markdown",
   "metadata": {},
   "source": [
    "## Naive-model training"
   ]
  },
  {
   "cell_type": "code",
   "execution_count": null,
   "metadata": {},
   "outputs": [],
   "source": [
    "df, label = get_data()\n",
    "\n",
    "# test on xgb\n",
    "record_dic = xgb_grid_test(df, label)\n",
    "# test on svm\n",
    "svm_lis = svm_grid_test(df, label)\n",
    "\n",
    "# record svm into dic\n",
    "record_dic['svr_rbf'] = [np.nan]*len(record_dic['score'])\n",
    "record_dic['svr_rbf'] =  svm_lis[0]+[np.nan]*(len(record_dic['score'])-len(svm_lis[0]))\n",
    "record_dic['svr_linear'] = [np.nan]*len(record_dic['score'])\n",
    "record_dic['svr_linear'] = svm_lis[1]+[np.nan]*(len(record_dic['score'])-len(svm_lis[1]))\n",
    "\n",
    "# save to csv\n",
    "record = pd.DataFrame(record_dic)\n",
    "record.to_csv('./naive_training.csv')\n",
    "record"
   ]
  },
  {
   "cell_type": "markdown",
   "metadata": {},
   "source": [
    "## Sensor sensitivity disturb "
   ]
  },
  {
   "cell_type": "code",
   "execution_count": null,
   "metadata": {},
   "outputs": [],
   "source": [
    "# 雜訊\n",
    "df , label = get_data()\n",
    "# add noise on dirt \n",
    "\n",
    "print(label.std())\n",
    "x_axis = np.array(range(len(label)))\n",
    "\n",
    "\n",
    "# add noise\n",
    "noise_label, rand= sig_disturb(label, 20)\n",
    "print(noise_label.std())\n",
    "\n",
    "# plot\n",
    "fig=plt.figure(figsize = (16, 5))\n",
    "\n",
    "fig_place = [1,2]\n",
    "\n",
    "subplot1 = fig.add_subplot(fig_place[0], fig_place[1], 1)\n",
    "plt.scatter(x_axis, label, marker='.')\n",
    "plt.title(\"origin signal of label\", y=1)\n",
    "\n",
    "subplot2 = fig.add_subplot(fig_place[0], fig_place[1], 2)\n",
    "plt.title(\"origin signal of label with with sensitivity disturb\")\n",
    "plt.scatter(x_axis, noise_label, marker='.')\n",
    "plt.scatter(x_axis[rand], noise_label[rand], marker='o')"
   ]
  },
  {
   "cell_type": "code",
   "execution_count": null,
   "metadata": {},
   "outputs": [],
   "source": [
    "df, label = get_data()\n",
    "noise_label, rand= sig_disturb(label, 20)\n",
    "\n",
    "# sig. disturb \n",
    "label = noise_label\n",
    "\n",
    "# test on xgb\n",
    "record_dic = xgb_grid_test(df, label)\n",
    "# test on svm\n",
    "svm_lis = svm_grid_test(df, label)\n",
    "\n",
    "# record svm into dic\n",
    "record_dic['svr_rbf'] = [np.nan]*len(record_dic['score'])\n",
    "record_dic['svr_rbf'] =  svm_lis[0]+[np.nan]*(len(record_dic['score'])-len(svm_lis[0]))\n",
    "record_dic['svr_linear'] = [np.nan]*len(record_dic['score'])\n",
    "record_dic['svr_linear'] = svm_lis[1]+[np.nan]*(len(record_dic['score'])-len(svm_lis[1]))\n",
    "\n",
    "# save to csv\n",
    "record = pd.DataFrame(record_dic)\n",
    "record.to_csv('./disturb_training.csv')\n",
    "record"
   ]
  },
  {
   "cell_type": "markdown",
   "metadata": {},
   "source": [
    "## Transmission noise\n",
    "突波雜訊的控制與模型訓練。突波會顯著的對模型產生影響，所以需要先行濾除。"
   ]
  },
  {
   "cell_type": "code",
   "execution_count": null,
   "metadata": {},
   "outputs": [],
   "source": [
    "# 雜訊\n",
    "df_noise, label = get_data()\n",
    "# add noise on dirt \n",
    "\n",
    "print(label.std())\n",
    "x_axis = np.array(range(len(label)))\n",
    "\n",
    "\n",
    "# add noise\n",
    "noise_label, rand= sig_transmittion_noise(label, 20)\n",
    "print(noise_label.std())\n",
    "\n",
    "# plot\n",
    "fig=plt.figure(figsize = (16, 5))\n",
    "\n",
    "fig_place = [1,2]\n",
    "\n",
    "subplot1 = fig.add_subplot(fig_place[0], fig_place[1], 1)\n",
    "plt.scatter(x_axis, label, marker='.')\n",
    "plt.title(\"origin signal of label\", y=1)\n",
    "\n",
    "subplot2 = fig.add_subplot(fig_place[0], fig_place[1], 2)\n",
    "plt.title(\"origin signal of label with with Transmission noise\")\n",
    "plt.scatter(x_axis, noise_label, marker='.')\n",
    "plt.scatter(x_axis[rand], noise_label[rand], marker='.')"
   ]
  },
  {
   "cell_type": "markdown",
   "metadata": {},
   "source": [
    "### Transmission noise-去除雜訊後訓練"
   ]
  },
  {
   "cell_type": "code",
   "execution_count": null,
   "metadata": {},
   "outputs": [],
   "source": [
    "# 在訓練資料中會遇到雜訊突波 但在測試資料集上不應該有(因為那是我們的預測目標) \n",
    "# 在訓練集上filter離群值後訓練 預測就不會受離群值影響\n",
    "df, label = get_data()\n",
    "X_train, X_test, y_train, y_test = train_test_split(df, label, test_size=0.33, random_state=42)\n",
    "\n",
    "train = pd.concat([X_train, y_train], axis = 1).reset_index(drop=True)\n",
    "\n",
    "noise_label, _= sig_transmittion_noise(train['dirt'], 30)\n",
    "train.loc[_, 'dirt'] = 1000\n",
    "arr = train['dirt'].values\n",
    "thres = arr.mean() + arr.std()\n",
    "outlier_filter = np.array(arr<thres)\n",
    "\n",
    "X_clean = train[outlier_filter]\n",
    "y_clean = X_clean.pop('dirt')"
   ]
  },
  {
   "cell_type": "code",
   "execution_count": null,
   "metadata": {},
   "outputs": [],
   "source": [
    "df = X_clean\n",
    "label = y_clean\n",
    "\n",
    "# test on xgb\n",
    "record_dic = xgb_grid_test(df, label)\n",
    "# test on svm\n",
    "svm_lis = svm_grid_test(df, label)\n",
    "\n",
    "# record svm into dic\n",
    "record_dic['svr_rbf'] = [np.nan]*len(record_dic['score'])\n",
    "record_dic['svr_rbf'] =  svm_lis[0]+[np.nan]*(len(record_dic['score'])-len(svm_lis[0]))\n",
    "record_dic['svr_linear'] = [np.nan]*len(record_dic['score'])\n",
    "record_dic['svr_linear'] = svm_lis[1]+[np.nan]*(len(record_dic['score'])-len(svm_lis[1]))\n",
    "\n",
    "# save to csv\n",
    "record = pd.DataFrame(record_dic)\n",
    "record.to_csv('./noise_training.csv')\n",
    "record"
   ]
  },
  {
   "cell_type": "markdown",
   "metadata": {},
   "source": [
    "### Transmission noise-保留雜訊訓練"
   ]
  },
  {
   "cell_type": "code",
   "execution_count": null,
   "metadata": {},
   "outputs": [],
   "source": [
    "# 在訓練資料中會遇到雜訊突波 但在測試資料集上不應該有(因為那是我們的預測目標) \n",
    "# 在訓練集上filter離群值後訓練 預測就不會受離群值影響\n",
    "df, label = get_data()\n",
    "X_train, X_test, y_train, y_test = train_test_split(df, label, test_size=0.33, random_state=42)\n",
    "\n",
    "train = pd.concat([X_train, y_train], axis = 1).reset_index(drop=True)\n",
    "\n",
    "noise_label, _= sig_transmittion_noise(train['dirt'], 30)\n",
    "train.loc[_, 'dirt'] = 1000\n",
    "\n",
    "y_train = train.pop('dirt')\n",
    "X_train = train\n",
    "# 進行測試\n",
    "df = X_train\n",
    "label = y_train\n",
    "\n",
    "# test on xgb\n",
    "record_dic = xgb_grid_test(df, label)\n",
    "# test on svm\n",
    "svm_lis = svm_grid_test(df, label)\n",
    "\n",
    "# record svm into dic\n",
    "record_dic['svr_rbf'] = [np.nan]*len(record_dic['score'])\n",
    "record_dic['svr_rbf'] =  svm_lis[0]+[np.nan]*(len(record_dic['score'])-len(svm_lis[0]))\n",
    "record_dic['svr_linear'] = [np.nan]*len(record_dic['score'])\n",
    "record_dic['svr_linear'] = svm_lis[1]+[np.nan]*(len(record_dic['score'])-len(svm_lis[1]))\n",
    "\n",
    "# save to csv\n",
    "record = pd.DataFrame(record_dic)\n",
    "record.to_csv('./noise_with_outlier_training.csv')\n",
    "record"
   ]
  },
  {
   "cell_type": "markdown",
   "metadata": {},
   "source": [
    "## Delay feedback\n",
    "1. 選定一個欄位 隨機shift一個連續時間區域的資料"
   ]
  },
  {
   "cell_type": "code",
   "execution_count": null,
   "metadata": {},
   "outputs": [],
   "source": [
    "# Delay feedback\n",
    "df, label = get_data()\n",
    "\n",
    "np.random.seed(1)\n",
    "num = 1\n",
    "block_width = 7\n",
    "rand = np.random.choice(range(len(label)-block_width), num, replace=False)[0]\n",
    "# delay = np.array(range(rand[0],rand[0]+block_width))\n",
    "# label[delay]\n",
    "\n",
    "delay_label = label.copy()\n",
    "for i in range(len(delay_label)-block_width-1, rand-1, -1):\n",
    "#     print(i)\n",
    "    delay_label[i + block_width] = delay_label[i]\n",
    "    delay_label[i] = 0\n",
    "\n",
    "delay_label[92:]\n",
    "\n",
    "# plot\n",
    "fig=plt.figure(figsize = (16, 5))\n",
    "\n",
    "fig_place = [1,2]\n",
    "\n",
    "x_axis = np.array(range(len(label)))\n",
    "\n",
    "subplot1 = fig.add_subplot(fig_place[0], fig_place[1], 1)\n",
    "plt.scatter(x_axis, label, marker='.')\n",
    "plt.scatter(x_axis[rand : rand + block_width], delay_label[rand : rand + block_width], marker='o', c = 'w')\n",
    "plt.title(\"origin signal of label\", y=1)\n",
    "\n",
    "subplot2 = fig.add_subplot(fig_place[0], fig_place[1], 2)\n",
    "plt.title(\"origin signal of label with with delay feedback\")\n",
    "plt.scatter(x_axis, delay_label, marker='.')\n",
    "plt.scatter(x_axis[rand : rand + block_width], delay_label[rand : rand + block_width], marker='o', c = 'w')"
   ]
  },
  {
   "cell_type": "markdown",
   "metadata": {},
   "source": [
    "### delay並訓練"
   ]
  },
  {
   "cell_type": "code",
   "execution_count": null,
   "metadata": {},
   "outputs": [],
   "source": [
    "# sig. delay\n",
    "label = label\n",
    "\n",
    "# test on xgb\n",
    "record_dic = xgb_grid_test(df, label)\n",
    "# test on svm\n",
    "svm_lis = svm_grid_test(df, label)\n",
    "\n",
    "# record svm into dic\n",
    "record_dic['svr_rbf'] = [np.nan]*len(record_dic['score'])\n",
    "record_dic['svr_rbf'] =  svm_lis[0]+[np.nan]*(len(record_dic['score'])-len(svm_lis[0]))\n",
    "record_dic['svr_linear'] = [np.nan]*len(record_dic['score'])\n",
    "record_dic['svr_linear'] = svm_lis[1]+[np.nan]*(len(record_dic['score'])-len(svm_lis[1]))\n",
    "\n",
    "# save to csv\n",
    "record = pd.DataFrame(record_dic)\n",
    "record.to_csv('./delay_training.csv')\n",
    "record"
   ]
  },
  {
   "cell_type": "code",
   "execution_count": null,
   "metadata": {},
   "outputs": [],
   "source": []
  },
  {
   "cell_type": "markdown",
   "metadata": {},
   "source": [
    "## 多重丟失\n",
    "1. 不同程度的丟失測試"
   ]
  },
  {
   "cell_type": "markdown",
   "metadata": {},
   "source": [
    "### drop training- 丟失並訓練\n",
    "丟掉10%的數據 然後訓練"
   ]
  },
  {
   "cell_type": "code",
   "execution_count": null,
   "metadata": {},
   "outputs": [],
   "source": [
    "# 不做處理\n",
    "df, label = get_data()\n",
    "\n",
    "drop_label, _ = sig_drop(label, 10)\n",
    "\n",
    "label = drop_label\n",
    "print(len(label))\n",
    "print(len(df))\n",
    "# test on xgb\n",
    "record_dic = xgb_grid_test(df, label)\n",
    "# test on svm\n",
    "svm_lis = svm_grid_test(df, label)\n",
    "\n",
    "# record svm into dic\n",
    "record_dic['svr_rbf'] = [np.nan]*len(record_dic['score'])\n",
    "record_dic['svr_rbf'] =  svm_lis[0]+[np.nan]*(len(record_dic['score'])-len(svm_lis[0]))\n",
    "record_dic['svr_linear'] = [np.nan]*len(record_dic['score'])\n",
    "record_dic['svr_linear'] = svm_lis[1]+[np.nan]*(len(record_dic['score'])-len(svm_lis[1]))\n",
    "\n",
    "# save to csv\n",
    "record = pd.DataFrame(record_dic)\n",
    "record.to_csv('./drop10_training.csv')\n",
    "record"
   ]
  },
  {
   "cell_type": "markdown",
   "metadata": {},
   "source": [
    "### drop training with solution- 丟失並搭配處理方法後訓練"
   ]
  },
  {
   "cell_type": "code",
   "execution_count": null,
   "metadata": {},
   "outputs": [],
   "source": [
    "# drop na\n",
    "df, label = get_data()\n",
    "\n",
    "\n",
    "X_train, X_test, y_train, y_test = train_test_split(df, label, test_size=0.1, random_state=42)\n",
    "\n",
    "train = pd.concat([X_train, y_train], axis = 1).reset_index(drop=True)\n",
    "\n",
    "drop_label, _ = sig_drop(train.loc[:, 'dirt'], 10)\n",
    "train.loc[:, 'dirt'] = drop_label\n",
    "print(len(train))\n",
    "\n",
    "# train.loc[:,'dirt'] = train['dirt'].replace(to_replace=0, value = train['dirt'].mean()) \n",
    "# train.loc[:,'dirt'] = train['dirt'].replace(to_replace=0, method='ffill')\n",
    "# train = train.replace(0, np.nan)\n",
    "# train = train.dropna()\n",
    "\n",
    "drop_label = train.pop('dirt')\n",
    "# train"
   ]
  },
  {
   "cell_type": "code",
   "execution_count": null,
   "metadata": {},
   "outputs": [],
   "source": [
    "label = drop_label\n",
    "df = train\n",
    "\n",
    "# test on xgb\n",
    "record_dic = xgb_grid_test(df, label)\n",
    "# test on svm\n",
    "svm_lis = svm_grid_test(df, label)\n",
    "\n",
    "# record svm into dic\n",
    "record_dic['svr_rbf'] = [np.nan]*len(record_dic['score'])\n",
    "record_dic['svr_rbf'] =  svm_lis[0]+[np.nan]*(len(record_dic['score'])-len(svm_lis[0]))\n",
    "record_dic['svr_linear'] = [np.nan]*len(record_dic['score'])\n",
    "record_dic['svr_linear'] = svm_lis[1]+[np.nan]*(len(record_dic['score'])-len(svm_lis[1]))\n",
    "\n",
    "# save to csv\n",
    "record = pd.DataFrame(record_dic)\n",
    "record.to_csv('./drop10_training_with_ffill.csv')\n",
    "record"
   ]
  }
 ],
 "metadata": {
  "kernelspec": {
   "display_name": "Python 3",
   "language": "python",
   "name": "python3"
  },
  "language_info": {
   "codemirror_mode": {
    "name": "ipython",
    "version": 3
   },
   "file_extension": ".py",
   "mimetype": "text/x-python",
   "name": "python",
   "nbconvert_exporter": "python",
   "pygments_lexer": "ipython3",
   "version": "3.7.6"
  }
 },
 "nbformat": 4,
 "nbformat_minor": 4
}
