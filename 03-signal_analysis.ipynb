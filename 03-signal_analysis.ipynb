{
 "cells": [
  {
   "cell_type": "markdown",
   "metadata": {},
   "source": [
    "import os\n",
    "os.chdir('./02-signal_testing')# readme\n",
    "分析資料種包含的各種形態瑕疵"
   ]
  },
  {
   "cell_type": "code",
   "execution_count": 9,
   "metadata": {},
   "outputs": [],
   "source": [
    "import pandas as pd\n",
    "from sklearn import preprocessing\n",
    "import matplotlib.pyplot as plt\n",
    "import numpy as np\n",
    "from sklearn.model_selection import train_test_split\n",
    "from sklearn.metrics import mean_absolute_error, r2_score, mean_squared_error\n",
    "from xgboost import XGBRegressor\n",
    "from sklearn.svm import SVR"
   ]
  },
  {
   "cell_type": "code",
   "execution_count": 10,
   "metadata": {},
   "outputs": [],
   "source": [
    "from utils import xgb_model, get_data, lr_curve, eva_metric, xgb_grid_test, svm_grid_test\n",
    "from noising import sig_disturb, sig_transmittion_noise, sig_drop, plt_drop"
   ]
  },
  {
   "cell_type": "code",
   "execution_count": 11,
   "metadata": {},
   "outputs": [],
   "source": [
    "save_path = '03-signal_analysis'\n",
    "package_path = 'water_MLOps'"
   ]
  },
  {
   "cell_type": "code",
   "execution_count": 12,
   "metadata": {},
   "outputs": [
    {
     "name": "stdout",
     "output_type": "stream",
     "text": [
      "ok\n"
     ]
    },
    {
     "data": {
      "text/plain": [
       "'/home/jovyan/git/water_MLOps/03-signal_analysis'"
      ]
     },
     "execution_count": 12,
     "metadata": {},
     "output_type": "execute_result"
    }
   ],
   "source": [
    "import os\n",
    "cwd = os.getcwd().split(\"/\")[-1]\n",
    "if cwd == package_path:\n",
    "    print(cwd)\n",
    "    if not os.path.isdir(save_path):\n",
    "#         print('create '+save_path)\n",
    "        os.mkdir(save_path)\n",
    "    \n",
    "if cwd == save_path:\n",
    "    print('ok')\n",
    "    pass\n",
    "else:\n",
    "    os.chdir(save_path)\n",
    "os.getcwd()"
   ]
  },
  {
   "cell_type": "markdown",
   "metadata": {},
   "source": [
    "# EDA"
   ]
  },
  {
   "cell_type": "code",
   "execution_count": 57,
   "metadata": {},
   "outputs": [
    {
     "name": "stdout",
     "output_type": "stream",
     "text": [
      "0    70.0\n",
      "1    70.0\n",
      "2    70.0\n",
      "3    71.0\n",
      "4    71.0\n",
      "Name: dirt, dtype: float64\n"
     ]
    },
    {
     "data": {
      "text/html": [
       "<div>\n",
       "<style scoped>\n",
       "    .dataframe tbody tr th:only-of-type {\n",
       "        vertical-align: middle;\n",
       "    }\n",
       "\n",
       "    .dataframe tbody tr th {\n",
       "        vertical-align: top;\n",
       "    }\n",
       "\n",
       "    .dataframe thead th {\n",
       "        text-align: right;\n",
       "    }\n",
       "</style>\n",
       "<table border=\"1\" class=\"dataframe\">\n",
       "  <thead>\n",
       "    <tr style=\"text-align: right;\">\n",
       "      <th></th>\n",
       "      <th>C</th>\n",
       "      <th>D</th>\n",
       "      <th>time</th>\n",
       "    </tr>\n",
       "  </thead>\n",
       "  <tbody>\n",
       "    <tr>\n",
       "      <th>0</th>\n",
       "      <td>17.000000</td>\n",
       "      <td>118.000000</td>\n",
       "      <td>0</td>\n",
       "    </tr>\n",
       "    <tr>\n",
       "      <th>1</th>\n",
       "      <td>114.680482</td>\n",
       "      <td>171.433735</td>\n",
       "      <td>1</td>\n",
       "    </tr>\n",
       "    <tr>\n",
       "      <th>2</th>\n",
       "      <td>287.000000</td>\n",
       "      <td>208.000000</td>\n",
       "      <td>2</td>\n",
       "    </tr>\n",
       "    <tr>\n",
       "      <th>3</th>\n",
       "      <td>17.000000</td>\n",
       "      <td>118.000000</td>\n",
       "      <td>3</td>\n",
       "    </tr>\n",
       "    <tr>\n",
       "      <th>4</th>\n",
       "      <td>123.428571</td>\n",
       "      <td>184.785714</td>\n",
       "      <td>4</td>\n",
       "    </tr>\n",
       "  </tbody>\n",
       "</table>\n",
       "</div>"
      ],
      "text/plain": [
       "            C           D  time\n",
       "0   17.000000  118.000000     0\n",
       "1  114.680482  171.433735     1\n",
       "2  287.000000  208.000000     2\n",
       "3   17.000000  118.000000     3\n",
       "4  123.428571  184.785714     4"
      ]
     },
     "execution_count": 57,
     "metadata": {},
     "output_type": "execute_result"
    }
   ],
   "source": [
    "df, label = get_data('~/git/water_MLOps/Cost-B.xlsx')\n",
    "print(label.head())\n",
    "df.head()"
   ]
  },
  {
   "attachments": {
    "da9ca94c-69d2-4f40-8f47-b5c1dc365ec9.png": {
     "image/png": "[encoded data removed]"
    }
   },
   "cell_type": "markdown",
   "metadata": {},
   "source": [
    "![image.png](attachment:da9ca94c-69d2-4f40-8f47-b5c1dc365ec9.png)"
   ]
  },
  {
   "cell_type": "code",
   "execution_count": 14,
   "metadata": {},
   "outputs": [],
   "source": [
    "import numpy as np\n",
    "\n",
    "def SSIM(x, y, k1=0.01, k2=0.03, paraL=None):\n",
    "    k1 = k1\n",
    "    k2 = k2\n",
    "    covxy = np.cov(x, y)\n",
    "    meanx = np.mean(x)\n",
    "    stdx = np.std(x)\n",
    "\n",
    "    meany = np.mean(y)\n",
    "    stdy = np.std(y)\n",
    "\n",
    "    mu1_sq = meanx ** 2\n",
    "    mu2_sq = meany ** 2\n",
    "    mu1_mu2 = meanx * meany\n",
    "    sigma12 = covxy\n",
    "    sigma1_sq = stdx ** 2 \n",
    "    sigma2_sq = stdy ** 2 \n",
    "    if paraL:\n",
    "        L = paraL\n",
    "    else:\n",
    "        L = max(max(x), max(y))\n",
    "\n",
    "    C1 = (k1*L)**2\n",
    "    C2 = (k2*L)**2\n",
    "    ssim =  ((2 * mu1_mu2 + C1) * (2 * sigma12 + C2)) / ((mu1_sq + mu2_sq + C1) *\n",
    "                                                                (sigma1_sq + sigma2_sq + C2))\n",
    "    ssim = np.mean(ssim)\n",
    "    return(ssim)"
   ]
  },
  {
   "cell_type": "code",
   "execution_count": 15,
   "metadata": {},
   "outputs": [
    {
     "data": {
      "text/plain": [
       "0.15125302536867996"
      ]
     },
     "execution_count": 15,
     "metadata": {},
     "output_type": "execute_result"
    }
   ],
   "source": [
    "x = [-2.1, -1,  4.3]\n",
    "y = [3,  1.1,  0.12]\n",
    "\n",
    "SSIM(x, y)"
   ]
  },
  {
   "cell_type": "markdown",
   "metadata": {},
   "source": [
    "### 鄰居overlap"
   ]
  },
  {
   "cell_type": "code",
   "execution_count": 21,
   "metadata": {},
   "outputs": [],
   "source": [
    "# over lap\n",
    "import numpy as np\n",
    "def split_series(col, split, overlap=0.3):\n",
    "    print('>> split_series')\n",
    "    split = split\n",
    "    lis = []\n",
    "    split_index = []\n",
    "    overlap = overlap\n",
    "    size = int(np.floor((len(col)//split)*(1+overlap)))\n",
    "    print('size = ', size)\n",
    "    for i in range(split):\n",
    "        a = i*len(col)//split\n",
    "        b = a + size\n",
    "        split_index.append(str(a)+str(b))\n",
    "#         print(a,b)\n",
    "        if b <= len(col):\n",
    "            lis.append(col[a:b].values)\n",
    "        else:\n",
    "            pass\n",
    "    print('>> split_series end')\n",
    "    return lis, split_index\n"
   ]
  },
  {
   "cell_type": "markdown",
   "metadata": {},
   "source": [
    "### 計算鄰居的SSIM"
   ]
  },
  {
   "cell_type": "code",
   "execution_count": 49,
   "metadata": {},
   "outputs": [
    {
     "name": "stdout",
     "output_type": "stream",
     "text": [
      ">> split_series\n",
      "size =  22\n",
      ">> split_series end\n"
     ]
    },
    {
     "data": {
      "text/html": [
       "<div>\n",
       "<style scoped>\n",
       "    .dataframe tbody tr th:only-of-type {\n",
       "        vertical-align: middle;\n",
       "    }\n",
       "\n",
       "    .dataframe tbody tr th {\n",
       "        vertical-align: top;\n",
       "    }\n",
       "\n",
       "    .dataframe thead th {\n",
       "        text-align: right;\n",
       "    }\n",
       "</style>\n",
       "<table border=\"1\" class=\"dataframe\">\n",
       "  <thead>\n",
       "    <tr style=\"text-align: right;\">\n",
       "      <th></th>\n",
       "      <th>key</th>\n",
       "      <th>score</th>\n",
       "    </tr>\n",
       "  </thead>\n",
       "  <tbody>\n",
       "    <tr>\n",
       "      <th>0</th>\n",
       "      <td>0-1</td>\n",
       "      <td>0.374102</td>\n",
       "    </tr>\n",
       "    <tr>\n",
       "      <th>1</th>\n",
       "      <td>1-2</td>\n",
       "      <td>0.566694</td>\n",
       "    </tr>\n",
       "    <tr>\n",
       "      <th>2</th>\n",
       "      <td>2-3</td>\n",
       "      <td>0.355725</td>\n",
       "    </tr>\n",
       "    <tr>\n",
       "      <th>3</th>\n",
       "      <td>3-4</td>\n",
       "      <td>0.340298</td>\n",
       "    </tr>\n",
       "    <tr>\n",
       "      <th>4</th>\n",
       "      <td>4-5</td>\n",
       "      <td>0.545681</td>\n",
       "    </tr>\n",
       "  </tbody>\n",
       "</table>\n",
       "</div>"
      ],
      "text/plain": [
       "   key     score\n",
       "0  0-1  0.374102\n",
       "1  1-2  0.566694\n",
       "2  2-3  0.355725\n",
       "3  3-4  0.340298\n",
       "4  4-5  0.545681"
      ]
     },
     "execution_count": 49,
     "metadata": {},
     "output_type": "execute_result"
    },
    {
     "data": {
      "image/png": "[encoded data removed]",
      "text/plain": [
       "<Figure size 432x288 with 1 Axes>"
      ]
     },
     "metadata": {
      "needs_background": "light"
     },
     "output_type": "display_data"
    }
   ],
   "source": [
    "# neighbor\n",
    "col = df.loc[:,'C']\n",
    "target, _ = split_series(col, 7, 0.3)\n",
    "\n",
    "tmp = pd.DataFrame(columns = ['key', 'score'])\n",
    "for i in range(len(target)-1):\n",
    "#     for _ in range()\n",
    "#     print(i)\n",
    "    a = target[i]\n",
    "\n",
    "    b = target[i+1]\n",
    "#     print(i, i+1)\n",
    "    group = str(i)+'-'+str(i+1)\n",
    "    score = SSIM(a, b)\n",
    "    tmp.at[i, 'key'] = group\n",
    "    tmp.at[i, 'score'] = score\n",
    "#     print(score)\n",
    "#     print('----')\n",
    "#     a = SSIM(target[i], target[i+1], 0.01, 0.03)\n",
    "#     print(a)\n",
    "tmp.plot.bar(x='key', y = 'score', rot=0)\n",
    "tmp"
   ]
  },
  {
   "cell_type": "markdown",
   "metadata": {},
   "source": [
    "### 計算所有區塊相互的SSIM"
   ]
  },
  {
   "cell_type": "code",
   "execution_count": 82,
   "metadata": {},
   "outputs": [
    {
     "name": "stdout",
     "output_type": "stream",
     "text": [
      ">> split_series\n",
      "size =  22\n",
      ">> split_series end\n"
     ]
    },
    {
     "data": {
      "text/plain": [
       "<matplotlib.axes._subplots.AxesSubplot at 0x7f85a088ea10>"
      ]
     },
     "execution_count": 82,
     "metadata": {},
     "output_type": "execute_result"
    },
    {
     "data": {
      "image/png": "[encoded data removed]",
      "text/plain": [
       "<Figure size 432x288 with 1 Axes>"
      ]
     },
     "metadata": {
      "needs_background": "light"
     },
     "output_type": "display_data"
    }
   ],
   "source": [
    "# all\n",
    "df, label = get_data('~/git/water_MLOps/Cost-B.xlsx')\n",
    "col = df.loc[:,'C']\n",
    "\n",
    "target, _ = split_series(col, 7, 0.3)\n",
    "tmp = pd.DataFrame(columns = ['key', 'score'])\n",
    "\n",
    "lis_key = []\n",
    "lis_score = []\n",
    "    \n",
    "for i in range(len(target)):\n",
    "\n",
    "    a = target[i]\n",
    "   \n",
    "\n",
    "    for _ in range(i+1, len(target)):\n",
    "        b = target[_]\n",
    "#         print(i, _)\n",
    "        score = SSIM(a, b)\n",
    "        \n",
    "        lis_key.append(str(i)+'-'+str(_))\n",
    "        lis_score.append(score)\n",
    "\n",
    "#     print('----')\n",
    "#     a = SSIM(target[i], target[i+1], 0.01, 0.03)\n",
    "#     print(a)\n",
    "tmp['key'] = lis_key\n",
    "tmp['score'] = lis_score\n",
    "tmp.plot.bar(x='key', y = 'score', rot=0)\n",
    "# tmp"
   ]
  },
  {
   "cell_type": "markdown",
   "metadata": {},
   "source": [
    "## model test"
   ]
  },
  {
   "cell_type": "code",
   "execution_count": 83,
   "metadata": {},
   "outputs": [],
   "source": [
    "def xgb_simple_test(df, label):\n",
    "    \n",
    "    X_train, X_test, y_train, y_test = train_test_split(df, label,\n",
    "                                                        test_size=0.33, random_state=42)\n",
    "\n",
    "    max_score = 0\n",
    "\n",
    "    \n",
    "    # model training \n",
    "    model = xgb_model(200, 'reg:squarederror', 'gbtree', 8) # epochs, objective, booster, max_depth\n",
    "    model.fit(X_train, y_train,\n",
    "            eval_set=[(X_train, y_train), (X_test, y_test)],\n",
    "            eval_metric='mae', verbose = False)\n",
    "\n",
    "    # model predict and evaulate.\n",
    "    y_pred = model.predict(X_test)\n",
    "    y_true = y_test\n",
    "    \n",
    "\n",
    "\n",
    "    return eva_metric(y_true, y_pred)"
   ]
  },
  {
   "cell_type": "code",
   "execution_count": 84,
   "metadata": {},
   "outputs": [
    {
     "data": {
      "text/plain": [
       "{'mse': 0.3493604175378809,\n",
       " 'mae': 0.36226608276366185,\n",
       " 'r2_score': 0.9945135662752155}"
      ]
     },
     "execution_count": 84,
     "metadata": {},
     "output_type": "execute_result"
    }
   ],
   "source": [
    "df, label = get_data('~/git/water_MLOps/Cost-B.xlsx')\n",
    "\n",
    "# test on xgb\n",
    "ans = xgb_simple_test(df, label)\n",
    "# # test on svm\n",
    "# svm_lis = svm_grid_test(df, label)\n",
    "\n",
    "# save to csv\n",
    "ans"
   ]
  },
  {
   "cell_type": "code",
   "execution_count": null,
   "metadata": {},
   "outputs": [],
   "source": []
  }
 ],
 "metadata": {
  "kernelspec": {
   "display_name": "Python 3",
   "language": "python",
   "name": "python3"
  },
  "language_info": {
   "codemirror_mode": {
    "name": "ipython",
    "version": 3
   },
   "file_extension": ".py",
   "mimetype": "text/x-python",
   "name": "python",
   "nbconvert_exporter": "python",
   "pygments_lexer": "ipython3",
   "version": "3.7.6"
  }
 },
 "nbformat": 4,
 "nbformat_minor": 4
}
