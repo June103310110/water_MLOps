{
 "cells": [
  {
   "cell_type": "markdown",
   "metadata": {},
   "source": [
    "import os\n",
    "os.chdir('./02-signal_testing')# readme\n",
    "分析資料種包含的各種形態瑕疵"
   ]
  },
  {
   "cell_type": "code",
   "execution_count": 1,
   "metadata": {},
   "outputs": [],
   "source": [
    "import pandas as pd\n",
    "from sklearn import preprocessing\n",
    "import matplotlib.pyplot as plt\n",
    "import numpy as np\n",
    "from sklearn.model_selection import train_test_split\n",
    "from sklearn.metrics import mean_absolute_error, r2_score, mean_squared_error\n",
    "from xgboost import XGBRegressor\n",
    "from sklearn.svm import SVR"
   ]
  },
  {
   "cell_type": "code",
   "execution_count": 2,
   "metadata": {},
   "outputs": [],
   "source": [
    "from utils import xgb_model, get_data, lr_curve, eva_metric, xgb_grid_test, svm_grid_test\n",
    "from noising import sig_disturb, sig_transmittion_noise, sig_drop, plt_drop"
   ]
  },
  {
   "cell_type": "code",
   "execution_count": 3,
   "metadata": {},
   "outputs": [],
   "source": [
    "save_path = '03-signal_analysis'\n",
    "package_path = 'water_MLOps'"
   ]
  },
  {
   "cell_type": "code",
   "execution_count": 4,
   "metadata": {},
   "outputs": [
    {
     "name": "stdout",
     "output_type": "stream",
     "text": [
      "water_MLOps\n"
     ]
    },
    {
     "data": {
      "text/plain": [
       "'/home/jovyan/git/water_MLOps/03-signal_analysis'"
      ]
     },
     "execution_count": 4,
     "metadata": {},
     "output_type": "execute_result"
    }
   ],
   "source": [
    "import os\n",
    "cwd = os.getcwd().split(\"/\")[-1]\n",
    "if cwd == package_path:\n",
    "    print(cwd)\n",
    "    if not os.path.isdir(save_path):\n",
    "#         print('create '+save_path)\n",
    "        os.mkdir(save_path)\n",
    "    \n",
    "if cwd == save_path:\n",
    "    print('ok')\n",
    "    pass\n",
    "else:\n",
    "    os.chdir(save_path)\n",
    "os.getcwd()"
   ]
  },
  {
   "cell_type": "markdown",
   "metadata": {},
   "source": [
    "# EDA"
   ]
  },
  {
   "cell_type": "code",
   "execution_count": 5,
   "metadata": {},
   "outputs": [
    {
     "name": "stdout",
     "output_type": "stream",
     "text": [
      "0    70.0\n",
      "1    70.0\n",
      "2    70.0\n",
      "3    71.0\n",
      "4    71.0\n",
      "Name: dirt, dtype: float64\n"
     ]
    },
    {
     "data": {
      "text/html": [
       "<div>\n",
       "<style scoped>\n",
       "    .dataframe tbody tr th:only-of-type {\n",
       "        vertical-align: middle;\n",
       "    }\n",
       "\n",
       "    .dataframe tbody tr th {\n",
       "        vertical-align: top;\n",
       "    }\n",
       "\n",
       "    .dataframe thead th {\n",
       "        text-align: right;\n",
       "    }\n",
       "</style>\n",
       "<table border=\"1\" class=\"dataframe\">\n",
       "  <thead>\n",
       "    <tr style=\"text-align: right;\">\n",
       "      <th></th>\n",
       "      <th>C</th>\n",
       "      <th>D</th>\n",
       "      <th>time</th>\n",
       "    </tr>\n",
       "  </thead>\n",
       "  <tbody>\n",
       "    <tr>\n",
       "      <th>0</th>\n",
       "      <td>17.000000</td>\n",
       "      <td>118.000000</td>\n",
       "      <td>0</td>\n",
       "    </tr>\n",
       "    <tr>\n",
       "      <th>1</th>\n",
       "      <td>114.680482</td>\n",
       "      <td>171.433735</td>\n",
       "      <td>1</td>\n",
       "    </tr>\n",
       "    <tr>\n",
       "      <th>2</th>\n",
       "      <td>287.000000</td>\n",
       "      <td>208.000000</td>\n",
       "      <td>2</td>\n",
       "    </tr>\n",
       "    <tr>\n",
       "      <th>3</th>\n",
       "      <td>17.000000</td>\n",
       "      <td>118.000000</td>\n",
       "      <td>3</td>\n",
       "    </tr>\n",
       "    <tr>\n",
       "      <th>4</th>\n",
       "      <td>123.428571</td>\n",
       "      <td>184.785714</td>\n",
       "      <td>4</td>\n",
       "    </tr>\n",
       "  </tbody>\n",
       "</table>\n",
       "</div>"
      ],
      "text/plain": [
       "            C           D  time\n",
       "0   17.000000  118.000000     0\n",
       "1  114.680482  171.433735     1\n",
       "2  287.000000  208.000000     2\n",
       "3   17.000000  118.000000     3\n",
       "4  123.428571  184.785714     4"
      ]
     },
     "execution_count": 5,
     "metadata": {},
     "output_type": "execute_result"
    }
   ],
   "source": [
    "df, label = get_data('~/git/water_MLOps/Cost-B.xlsx')\n",
    "print(label.head())\n",
    "df.head()"
   ]
  },
  {
   "cell_type": "code",
   "execution_count": 19,
   "metadata": {},
   "outputs": [
    {
     "data": {
      "text/plain": [
       "60       4.999950\n",
       "61       4.999950\n",
       "62       4.999950\n",
       "63       7.000000\n",
       "64      27.586800\n",
       "65      42.000000\n",
       "66      18.333150\n",
       "67      18.333150\n",
       "68      18.333150\n",
       "69      12.000000\n",
       "70       7.000000\n",
       "71       9.500000\n",
       "72      22.000000\n",
       "73     166.400000\n",
       "74     217.000000\n",
       "75      11.670000\n",
       "76     203.819647\n",
       "77     332.000000\n",
       "78     117.000000\n",
       "79     223.055901\n",
       "80     332.000000\n",
       "81       4.999950\n",
       "82       4.999950\n",
       "83       4.999950\n",
       "84       5.000000\n",
       "85     239.476190\n",
       "86     302.000000\n",
       "87       4.999950\n",
       "88       4.999950\n",
       "89       4.999950\n",
       "90      17.000000\n",
       "91     222.979381\n",
       "92     332.000000\n",
       "93       5.830000\n",
       "94     240.130714\n",
       "95     287.000000\n",
       "96       7.000000\n",
       "97     158.000000\n",
       "98     262.000000\n",
       "99       7.000000\n",
       "100     11.230769\n",
       "101     17.000000\n",
       "102      6.666600\n",
       "103      6.666600\n",
       "104      6.666600\n",
       "105     22.000000\n",
       "106     32.000000\n",
       "107     42.000000\n",
       "108      6.670000\n",
       "109     27.778333\n",
       "110     42.000000\n",
       "111     12.000000\n",
       "112      7.000000\n",
       "113      9.500000\n",
       "114      6.666600\n",
       "115      6.666600\n",
       "116      6.666600\n",
       "117     42.000000\n",
       "118     22.000000\n",
       "119     32.000000\n",
       "Name: C, dtype: float64"
      ]
     },
     "execution_count": 19,
     "metadata": {},
     "output_type": "execute_result"
    }
   ],
   "source": [
    "col[60:120]"
   ]
  },
  {
   "attachments": {
    "da9ca94c-69d2-4f40-8f47-b5c1dc365ec9.png": {
     "image/png": "[encoded data removed]"
    }
   },
   "cell_type": "markdown",
   "metadata": {},
   "source": [
    "![image.png](attachment:da9ca94c-69d2-4f40-8f47-b5c1dc365ec9.png)"
   ]
  },
  {
   "cell_type": "code",
   "execution_count": 87,
   "metadata": {},
   "outputs": [],
   "source": [
    "import numpy as np\n",
    "\n",
    "def SSIM(x, y, k1=0.01, k2=0.03, paraL=None):\n",
    "    k1 = k1\n",
    "    k2 = k2\n",
    "    covxy = np.cov(x, y)\n",
    "    meanx = np.mean(x)\n",
    "    stdx = np.std(x)\n",
    "\n",
    "    meany = np.mean(y)\n",
    "    stdy = np.std(y)\n",
    "\n",
    "    mu1_sq = meanx ** 2\n",
    "    mu2_sq = meany ** 2\n",
    "    mu1_mu2 = meanx * meany\n",
    "    sigma12 = covxy\n",
    "    sigma1_sq = stdx ** 2 \n",
    "    sigma2_sq = stdy ** 2 \n",
    "    if paraL:\n",
    "        L = paraL\n",
    "    else:\n",
    "        L = max(max(x), max(y))\n",
    "\n",
    "    C1 = (k1*L)**2\n",
    "    C2 = (k2*L)**2\n",
    "    ssim =  ((2 * mu1_mu2 + C1) * (2 * sigma12 + C2)) / ((mu1_sq + mu2_sq + C1) *\n",
    "                                                                (sigma1_sq + sigma2_sq + C2))\n",
    "    ssim = np.mean(ssim)\n",
    "    return(ssim)"
   ]
  },
  {
   "cell_type": "code",
   "execution_count": 89,
   "metadata": {},
   "outputs": [
    {
     "data": {
      "text/plain": [
       "0.15125302536867996"
      ]
     },
     "execution_count": 89,
     "metadata": {},
     "output_type": "execute_result"
    }
   ],
   "source": [
    "x = [-2.1, -1,  4.3]\n",
    "y = [3,  1.1,  0.12]\n",
    "\n",
    "SSIM(x, y)"
   ]
  },
  {
   "cell_type": "code",
   "execution_count": 90,
   "metadata": {},
   "outputs": [],
   "source": [
    "col = df.loc[:,'C']\n",
    "\n",
    "split = 5\n",
    "lis = []\n",
    "\n",
    "for i in range(split):\n",
    "  \n",
    "    a = i*len(col)//split\n",
    "    b = (i+1)*len(col)//split\n",
    "  \n",
    "    name = 'part_'+str(i)\n",
    "    lis.append(col[a:b].values)"
   ]
  },
  {
   "cell_type": "markdown",
   "metadata": {},
   "source": [
    "### 鄰居overlap"
   ]
  },
  {
   "cell_type": "code",
   "execution_count": 128,
   "metadata": {},
   "outputs": [],
   "source": [
    "# over lap\n",
    "import numpy as np\n",
    "def split_series(col, split, overlap=0.3):\n",
    "    split = split\n",
    "    lis = []\n",
    "    overlap = overlap\n",
    "    size = int(np.floor((len(col)//split)*(1+overlap)))\n",
    "#     print(size)\n",
    "    for i in range(split):\n",
    "        a = i*len(col)//split\n",
    "        b = a + size\n",
    "#         print(a,b)\n",
    "        if b <= len(col):\n",
    "            lis.append(col[a:b].values)\n",
    "        else:\n",
    "            pass\n",
    "    return lis\n"
   ]
  },
  {
   "cell_type": "code",
   "execution_count": 137,
   "metadata": {},
   "outputs": [
    {
     "data": {
      "text/plain": [
       "(3, 39)"
      ]
     },
     "execution_count": 137,
     "metadata": {},
     "output_type": "execute_result"
    }
   ],
   "source": [
    "col = df.loc[:,'C']\n",
    "z = split_series(col, 4, 0)\n",
    "np.shape(z)"
   ]
  },
  {
   "cell_type": "markdown",
   "metadata": {},
   "source": [
    "### 計算鄰居的SSIM"
   ]
  },
  {
   "cell_type": "code",
   "execution_count": 133,
   "metadata": {},
   "outputs": [
    {
     "name": "stdout",
     "output_type": "stream",
     "text": [
      "0 1\n",
      "0.4463475956294221\n",
      "----\n",
      "1 2\n",
      "0.45879316055922836\n",
      "----\n",
      "2 3\n",
      "0.4614226137620242\n",
      "----\n",
      "3 4\n",
      "0.48210132907935144\n",
      "----\n"
     ]
    }
   ],
   "source": [
    "# neighbor\n",
    "target = z\n",
    "for i in range(len(target)-1):\n",
    "#     for _ in range()\n",
    "#     print(i)\n",
    "    a = target[i]\n",
    "\n",
    "    b = target[i+1]\n",
    "    print(i, i+1)\n",
    "    print(SSIM(a, b))\n",
    "    print('----')\n",
    "#     a = SSIM(target[i], target[i+1], 0.01, 0.03)\n",
    "#     print(a)"
   ]
  },
  {
   "cell_type": "markdown",
   "metadata": {},
   "source": [
    "### 計算所有區塊相互的SSIM"
   ]
  },
  {
   "cell_type": "code",
   "execution_count": 134,
   "metadata": {},
   "outputs": [
    {
     "name": "stdout",
     "output_type": "stream",
     "text": [
      "0 1\n",
      "0.4463475956294221\n",
      "0 2\n",
      "0.3429894451389277\n",
      "0 3\n",
      "0.5911040530094083\n",
      "0 4\n",
      "0.3536896398039976\n",
      "----\n",
      "1 2\n",
      "0.45879316055922836\n",
      "1 3\n",
      "0.259143449447073\n",
      "1 4\n",
      "0.5790325876766098\n",
      "----\n",
      "2 3\n",
      "0.4614226137620242\n",
      "2 4\n",
      "0.4729424131976622\n",
      "----\n",
      "3 4\n",
      "0.48210132907935144\n",
      "----\n",
      "----\n"
     ]
    }
   ],
   "source": [
    "# all\n",
    "target = z\n",
    "for i in range(len(target)):\n",
    "#     for _ in range()\n",
    "#     print(i)\n",
    "    a = target[i]\n",
    "    for _ in range(i+1, len(target)):\n",
    "        b = target[_]\n",
    "        print(i, _)\n",
    "        print(SSIM(a, b))\n",
    "    print('----')\n",
    "#     a = SSIM(target[i], target[i+1], 0.01, 0.03)\n",
    "#     print(a)"
   ]
  },
  {
   "cell_type": "code",
   "execution_count": null,
   "metadata": {},
   "outputs": [],
   "source": []
  },
  {
   "cell_type": "code",
   "execution_count": null,
   "metadata": {},
   "outputs": [],
   "source": []
  }
 ],
 "metadata": {
  "kernelspec": {
   "display_name": "Python 3",
   "language": "python",
   "name": "python3"
  },
  "language_info": {
   "codemirror_mode": {
    "name": "ipython",
    "version": 3
   },
   "file_extension": ".py",
   "mimetype": "text/x-python",
   "name": "python",
   "nbconvert_exporter": "python",
   "pygments_lexer": "ipython3",
   "version": "3.7.6"
  }
 },
 "nbformat": 4,
 "nbformat_minor": 4
}
